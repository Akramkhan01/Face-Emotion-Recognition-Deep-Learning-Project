{
  "nbformat": 4,
  "nbformat_minor": 0,
  "metadata": {
    "colab": {
      "name": " Face Emotion Recognition.ipynb",
      "provenance": [],
      "private_outputs": true,
      "collapsed_sections": [],
      "mount_file_id": "1WZfmEYyM9Sq6YFU07ZzoRUxaNhijoRko",
      "authorship_tag": "ABX9TyPfAd9zjUdbpV6g/Zs8b5w1",
      "include_colab_link": true
    },
    "kernelspec": {
      "name": "python3",
      "display_name": "Python 3"
    },
    "language_info": {
      "name": "python"
    },
    "accelerator": "GPU"
  },
  "cells": [
    {
      "cell_type": "markdown",
      "metadata": {
        "id": "view-in-github",
        "colab_type": "text"
      },
      "source": [
        "<a href=\"https://colab.research.google.com/github/Akramkhan01/Face-Emotion-Recognition-Deep-Learning-Project/blob/main/Face_Emotion_Recognition.ipynb\" target=\"_parent\"><img src=\"https://colab.research.google.com/assets/colab-badge.svg\" alt=\"Open In Colab\"/></a>"
      ]
    },
    {
      "cell_type": "markdown",
      "source": [
        "#**Project Name**\n",
        "\n",
        "**Live Class Monitoring System(Face Emotion Recognition)**\n",
        "\n",
        "\n",
        "# **Project Introduction**\n",
        "\n",
        "The Indian education landscape has been undergoing rapid changes for the past 10 years owing to the advancement of web-based learning services, specifically, eLearning platforms.\n",
        "\n",
        "Global E-learning is estimated to witness an 8X over the next 5 years to reach USD 2B in 2021. India is expected to grow with a CAGR of 44% crossing the 10M users mark in 2021. Although the market is growing on a rapid scale, there are major challenges associated with digital learning when compared with brick and mortar classrooms. One of many challenges is how to ensure quality learning for students. Digital platforms might overpower physical classrooms in terms of content quality but when it comes to understanding whether students are able to grasp the content in a live class scenario is yet an open-end challenge.\n",
        "\n",
        "In a physical classroom during a lecturing teacher can see the faces and assess the emotion of the class and tune their lecture accordingly, whether he is going fast or slow. He can identify students who need special attention. Digital classrooms are conducted via video telephony software program (exZoom) where it’s not possible for medium scale class (25-50) to see all students and access the mood. Because of this drawback, students are not focusing on content due to lack of surveillance. While digital platforms have limitations in terms of physical surveillance but it comes with the power of data and machines which can work for you. It provides data in the form of video, audio, and texts which can be analysed using deep learning algorithms. Deep learning backed system not only solves the surveillance issue, but it also removes the human bias from the system, and all information is no longer in the teacher’s brain rather translated in numbers that can be analysed and tracked.\n",
        "\n",
        "# **Problem Statements**\n",
        "\n",
        "We will solve the above-mentioned challenge by applying deep learning algorithms to live video data.\n",
        "\n",
        "The solution to this problem is by recognizing facial emotions.\n",
        "\n",
        "# **What is Face Emotion Recognition**\n",
        "\n",
        "Facial emotion recognition is the process of detecting human emotions from facial expressions. The human brain recognizes emotions automatically, and software has now been developed that can recognize emotions as well.\n",
        "\n",
        "# **Dataset Information:**\n",
        "I have built a deep learning model which detects the real time emotions of students through a webcam so that teachers can understand if students are able to grasp the topic according to students' expressions or emotions and then deploy the model. The model is trained on the FER-2013 dataset .This dataset consists of 35887 grayscale, 48x48 sized face images with seven emotions - angry, disgusted, fearful, happy, neutral, sad and surprised.\n",
        "\n",
        "\n"
      ],
      "metadata": {
        "id": "Dg-BV4KV7Qq9"
      }
    },
    {
      "cell_type": "code",
      "source": [
        "import os\n",
        "import cv2\n",
        "import numpy as np\n",
        "import pandas as pd\n",
        "\n",
        "import seaborn as sns\n",
        "import matplotlib.pyplot as plt\n",
        "from sklearn.model_selection import train_test_split\n",
        "\n",
        "## CNN Models ##\n",
        "import keras\n",
        "import tensorflow as tf\n",
        "from tensorflow.keras import optimizers\n",
        "from keras.utils import np_utils\n",
        "from keras.regularizers import l2\n",
        "from tensorflow.keras.datasets import mnist\n",
        "from tensorflow.keras.models import Sequential\n",
        "from keras.preprocessing.image import ImageDataGenerator, array_to_img, img_to_array, load_img\n",
        "from tensorflow.keras.layers import Flatten, Dense, Conv2D, MaxPooling2D, AveragePooling2D, GlobalAveragePooling2D, SeparableConv2D\n",
        "from tensorflow.keras.layers import Dropout, BatchNormalization, Activation\n",
        "from tensorflow.keras.callbacks import Callback, ModelCheckpoint, EarlyStopping, ReduceLROnPlateau\n",
        "from tensorflow.keras.preprocessing.image import ImageDataGenerator\n",
        "from keras import models\n",
        "from keras.utils.vis_utils import plot_model\n",
        "from keras.layers import Input, GlobalAveragePooling2D,concatenate\n",
        "from keras.models import Model\n",
        "from tensorflow.keras import layers\n",
        "from tensorflow.keras.applications.resnet50 import ResNet50\n",
        "from keras.models import load_model\n",
        "\n",
        "from sklearn.metrics import accuracy_score\n",
        "from sklearn.metrics import plot_confusion_matrix\n",
        "from sklearn.metrics import classification_report"
      ],
      "metadata": {
        "id": "x0q7Qptc8SR3"
      },
      "execution_count": null,
      "outputs": []
    },
    {
      "cell_type": "code",
      "source": [
        "batch_size = 32\n",
        "num_epochs = 50\n",
        "input_shape = (48, 48, 1)\n",
        "validation_split = .2\n",
        "verbose = 1\n",
        "num_classes = 7\n",
        "base_path = 'models/'\n",
        "shape_x = 48\n",
        "shape_y = 48\n",
        "image_size=(48,48)"
      ],
      "metadata": {
        "id": "g9dXg_TxAs-2"
      },
      "execution_count": null,
      "outputs": []
    },
    {
      "cell_type": "code",
      "source": [
        "from google.colab import drive\n",
        "drive.mount('/content/gdrive')"
      ],
      "metadata": {
        "id": "CoDes5MVlNHG"
      },
      "execution_count": null,
      "outputs": []
    },
    {
      "cell_type": "code",
      "source": [
        "%cd /content/gdrive/MyDrive/Face Emotion Recognition - Akram Khan"
      ],
      "metadata": {
        "id": "_FONYZmKlObr"
      },
      "execution_count": null,
      "outputs": []
    },
    {
      "cell_type": "code",
      "source": [
        "# Converting our data from tar file to csv file\n",
        "import tarfile\n",
        "\n",
        "fname = 'fer2013.tar.gz'\n",
        "if fname.endswith(\"tar.gz\"):\n",
        "    tar = tarfile.open(fname, \"r:gz\")\n",
        "    tar.extractall()\n",
        "    tar.close()\n",
        "elif fname.endswith(\"tar\"):\n",
        "    tar = tarfile.open(fname, \"r:\")\n",
        "    tar.extractall()\n",
        "    tar.close()"
      ],
      "metadata": {
        "id": "Bu6AwORmlbwr"
      },
      "execution_count": null,
      "outputs": []
    },
    {
      "cell_type": "code",
      "source": [
        "# Reading CSV file\n",
        "df = pd.read_csv('/content/gdrive/MyDrive/Face Emotion Recognition - Akram Khan/fer2013/fer2013.csv')"
      ],
      "metadata": {
        "id": "5R7Ov2ncmPTp"
      },
      "execution_count": null,
      "outputs": []
    },
    {
      "cell_type": "code",
      "source": [
        "# Printing shape of the data\n",
        "print(df.shape)"
      ],
      "metadata": {
        "id": "q-OR_H3wa3t3"
      },
      "execution_count": null,
      "outputs": []
    },
    {
      "cell_type": "code",
      "source": [
        "# Return the first 5 rows.\n",
        "df.head()"
      ],
      "metadata": {
        "id": "McR2cLHia7As"
      },
      "execution_count": null,
      "outputs": []
    },
    {
      "cell_type": "code",
      "source": [
        "# Return unique values emotion\n",
        "df.emotion.unique()"
      ],
      "metadata": {
        "id": "LsrY4RP2a-Ov"
      },
      "execution_count": null,
      "outputs": []
    },
    {
      "cell_type": "code",
      "source": [
        "# Dictionary mapping for individual emotions\n",
        "emotion_label_to_text = {0:'anger', 1:'disgust', 2:'fear', 3:'happiness', 4: 'sadness', 5: 'surprise', 6: 'neutral'}"
      ],
      "metadata": {
        "id": "482Bd-AybBrX"
      },
      "execution_count": null,
      "outputs": []
    },
    {
      "cell_type": "code",
      "source": [
        "# Plotting distribution of emotions\n",
        "sns.countplot(df.emotion)\n",
        "plt.show()"
      ],
      "metadata": {
        "id": "mn3AfENjbFSK"
      },
      "execution_count": null,
      "outputs": []
    },
    {
      "cell_type": "markdown",
      "source": [
        "From above plot we can observe that majority of the classes belongs to **3:Happy, 4:Sad** and **6:Neutral** on the otherside **1:disgust** and **5:surprise** are less in classes."
      ],
      "metadata": {
        "id": "eaJLpx8WB_ow"
      }
    },
    {
      "cell_type": "code",
      "source": [
        "# Value counts on each set\n",
        "df[\"Usage\"].value_counts()"
      ],
      "metadata": {
        "id": "ICU3hktzBulT"
      },
      "execution_count": null,
      "outputs": []
    },
    {
      "cell_type": "code",
      "source": [
        "# Let's plot the count of each set\n",
        "sns.countplot(df.Usage)\n",
        "plt.show()"
      ],
      "metadata": {
        "id": "rHzhxbu4Byxa"
      },
      "execution_count": null,
      "outputs": []
    },
    {
      "cell_type": "markdown",
      "source": [
        "#**Displaying Images**"
      ],
      "metadata": {
        "id": "XSyQ148XDAGg"
      }
    },
    {
      "cell_type": "code",
      "source": [
        "# Visulize sample dataset\n",
        "fig = plt.figure(1, (14, 14))\n",
        "k = 0\n",
        "for label in sorted(df.emotion.unique()):\n",
        "    for j in range(3):\n",
        "        px = df[df.emotion==label].pixels.iloc[k]\n",
        "        px = np.array(px.split(' ')).reshape(48, 48).astype('float32')\n",
        "        k += 1\n",
        "        ax = plt.subplot(7, 7, k)\n",
        "        ax.imshow(px)\n",
        "        ax.set_xticks([])\n",
        "        ax.set_yticks([])\n",
        "        ax.set_title(emotion_label_to_text[label])\n",
        "        plt.tight_layout()"
      ],
      "metadata": {
        "id": "u4FYgCj3DHdc"
      },
      "execution_count": null,
      "outputs": []
    },
    {
      "cell_type": "markdown",
      "source": [
        "#**Preprocessing**"
      ],
      "metadata": {
        "id": "lGN8NBh1DK5P"
      }
    },
    {
      "cell_type": "code",
      "source": [
        "df['pixels']=df['pixels'].astype(\"string\") #converting dtype of pixels to string\n",
        "pixels = df['pixels'].tolist() #Making list of pixels\n",
        "width, height = 48, 48 # initializing image shape\n",
        "faces = [] #Empty list\n",
        "# Making images as required for our models  \n",
        "for pixel_sequence in pixels:\n",
        "    face = [int(pixel) for pixel in pixel_sequence.strip().split(' ',48*48)]\n",
        "    face = np.asarray(face).reshape(width, height)\n",
        "    face = cv2.resize(face.astype('uint8'),image_size)\n",
        "    faces.append(face.astype('float32'))\n",
        "# Converting to array and dimension for transfer Learning\n",
        "faces = np.asarray(faces)\n",
        "faces = np.expand_dims(faces, -1)\n",
        "faces /= 127.5 # normalizing the data\n",
        "faces -= 1.\n",
        "# Converting Emotions to numpy array\n",
        "emotions = pd.get_dummies(df['emotion']).to_numpy()"
      ],
      "metadata": {
        "id": "0BqrqtwGDNrk"
      },
      "execution_count": null,
      "outputs": []
    },
    {
      "cell_type": "markdown",
      "source": [
        "#**Data Augmentation**\n",
        "**Data Augmentation**:- taking the batch and apply some series of random transformations (random rotation, resizing, shearing) to increase generalizability of model."
      ],
      "metadata": {
        "id": "z0ThGi6dDdN0"
      }
    },
    {
      "cell_type": "code",
      "source": [
        "# data generator Generate batches of tensor image data with real-time data augmentation\n",
        "data_generator = ImageDataGenerator(\n",
        "                        featurewise_center=False,#Set input mean to 0 over the dataset, feature-wise.\n",
        "                        featurewise_std_normalization=False,# Divide inputs by std of the dataset, feature-wise.\n",
        "                        rotation_range=10,      # randomly rotate images in the range (degrees, 0 to 180)\n",
        "                        width_shift_range=0.1,  # randomly shift images horizontally (fraction of total width)\n",
        "                        height_shift_range=0.1, # randomly shift images vertically (fraction of total height)\n",
        "                        zoom_range=.1,          # randomly zoom into images\n",
        "                        horizontal_flip=True)   # randomly flip images"
      ],
      "metadata": {
        "id": "wRe6xLKEDm-G"
      },
      "execution_count": null,
      "outputs": []
    },
    {
      "cell_type": "markdown",
      "source": [
        "ImageDataGenerator\n",
        "\n",
        "horizontal and vertical shift => moving all pixels of image in one direction\n",
        "\n",
        "1. width_shift_range ( horizonatal shift)\n",
        "\n",
        "2. height_shift_range (vertical shift)\n",
        "\n",
        "3. floating num [0- 1] --> % of shift\n",
        "\n",
        "* horizontal n vertical flips augmentation ==>reversing rows or cols of pixels --> True or False\n",
        "\n",
        "* Random rotation --> 0 - 360 degrees --> rotation_range = 90 ==> means random rotation to image blw 0 and 90 degrees\n",
        "\n",
        "* random brightness --> randomly darkens or brightens images ==> brightness_range =[0.2,1.0] --> means darkens or brightens if pixel is blw 0.2 and 1\n",
        "\n",
        "* random zoom\n",
        "\n",
        "1. either adds pixel or subtract pixels in image . [1-value, 1+value]\n",
        "\n",
        "2. for example , zoom_range = .3 --> range [0.7, 1.3] or blw 70%(zoom in) and 130% (zoomout)"
      ],
      "metadata": {
        "id": "xBETewU5Dt5C"
      }
    },
    {
      "cell_type": "markdown",
      "source": [
        "#**Splitting data into train and test datset**"
      ],
      "metadata": {
        "id": "Zj8ucPlaEWY9"
      }
    },
    {
      "cell_type": "code",
      "source": [
        "#train test split\n",
        "xtrain, xtest,ytrain,ytest = train_test_split(faces, emotions,test_size=0.3,shuffle=True)\n",
        "xval,xtest,yval,ytest=train_test_split(xtest,ytest,test_size=0.3,shuffle=True)"
      ],
      "metadata": {
        "id": "GzCJIYu1EToe"
      },
      "execution_count": null,
      "outputs": []
    },
    {
      "cell_type": "code",
      "source": [
        "# Checking shapes\n",
        "xtrain.shape, xtest.shape, ytrain.shape, ytest.shape, xval.shape, xtest.shape, yval.shape, ytest.shape"
      ],
      "metadata": {
        "id": "-KI2bhEaFFpK"
      },
      "execution_count": null,
      "outputs": []
    },
    {
      "cell_type": "markdown",
      "source": [
        "#**Method 1: Xception :**\n",
        "\n",
        "[Paper](https://arxiv.org/pdf/1610.02357.pdf)\n",
        "\n"
      ],
      "metadata": {
        "id": "BI8VAfTbKLNz"
      }
    },
    {
      "cell_type": "markdown",
      "source": [
        "![Xception.png](data:image/png;base64,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)"
      ],
      "metadata": {
        "id": "FYAuuAOiK3ap"
      }
    },
    {
      "cell_type": "markdown",
      "source": [
        "#**Modelling**"
      ],
      "metadata": {
        "id": "rkaQWyf9LIW7"
      }
    },
    {
      "cell_type": "code",
      "source": [
        "# Defining entry flow\n",
        "def entry_flow(inputs) :\n",
        "    \n",
        "    x = Conv2D(32, 3, strides = 2, padding='same')(inputs)\n",
        "    x = BatchNormalization()(x)\n",
        "    x = Activation('relu')(x)\n",
        "    \n",
        "    x = Conv2D(64,3,padding='same')(x)\n",
        "    x = BatchNormalization()(x)\n",
        "    x = Activation('relu')(x)\n",
        "    \n",
        "    previous_block_activation = x\n",
        "    \n",
        "    for size in [64, 128, 256] :\n",
        "    \n",
        "        x = Activation('relu')(x)\n",
        "        x = SeparableConv2D(size, 3, padding='same')(x)\n",
        "        x = BatchNormalization()(x)\n",
        "    \n",
        "        x = Activation('relu')(x)\n",
        "        x = SeparableConv2D(size, 3, padding='same')(x)\n",
        "        x = BatchNormalization()(x)\n",
        "        \n",
        "        x = MaxPooling2D(3, strides=2, padding='same')(x)\n",
        "        \n",
        "        residual = Conv2D(size, 1, strides=2, padding='same')(previous_block_activation)\n",
        "        \n",
        "        x = keras.layers.Add()([x, residual])\n",
        "        previous_block_activation = x\n",
        "    \n",
        "    return x"
      ],
      "metadata": {
        "id": "JylJxgFq047O"
      },
      "execution_count": null,
      "outputs": []
    },
    {
      "cell_type": "code",
      "source": [
        "# Defining middle flow\n",
        "def middle_flow(x, num_blocks=8) :\n",
        "    \n",
        "    previous_block_activation = x\n",
        "    \n",
        "    for _ in range(num_blocks) :\n",
        "    \n",
        "        x = Activation('relu')(x)\n",
        "        x = SeparableConv2D(256, 3, padding='same')(x)\n",
        "        x = BatchNormalization()(x)\n",
        "    \n",
        "        x = Activation('relu')(x)\n",
        "        x = SeparableConv2D(256, 3, padding='same')(x)\n",
        "        x = BatchNormalization()(x)\n",
        "        \n",
        "        x = Activation('relu')(x)\n",
        "        x = SeparableConv2D(256, 3, padding='same')(x)\n",
        "        x = BatchNormalization()(x)\n",
        "        \n",
        "        x = keras.layers.Add()([x, previous_block_activation])\n",
        "        previous_block_activation = x\n",
        "    \n",
        "    return x"
      ],
      "metadata": {
        "id": "19EEU33M0431"
      },
      "execution_count": null,
      "outputs": []
    },
    {
      "cell_type": "code",
      "source": [
        "# Defining exit flow\n",
        "def exit_flow(x, num_classes=7) :\n",
        "    \n",
        "    previous_block_activation = x\n",
        "    \n",
        "    x = Activation('relu')(x)\n",
        "    x = SeparableConv2D(256, 3, padding='same')(x)\n",
        "    x = BatchNormalization()(x)\n",
        "    \n",
        "    x = Activation('relu')(x)\n",
        "    x = SeparableConv2D(1024, 3, padding='same')(x)\n",
        "    x = BatchNormalization()(x)\n",
        "    \n",
        "    x = MaxPooling2D(3, strides=2, padding='same')(x)\n",
        "    \n",
        "    residual = Conv2D(1024, 1, strides=2, padding='same')(previous_block_activation)\n",
        "    x = keras.layers.Add()([x, residual])\n",
        "      \n",
        "    x = Activation('relu')(x)\n",
        "    x = SeparableConv2D(728, 3, padding='same')(x)\n",
        "    x = BatchNormalization()(x)\n",
        "    \n",
        "    x = Activation('relu')(x)\n",
        "    x = SeparableConv2D(1024, 3, padding='same')(x)\n",
        "    x = BatchNormalization()(x)\n",
        "    \n",
        "    x = GlobalAveragePooling2D()(x)\n",
        "    x = Dense(num_classes, activation='softmax')(x)\n",
        "    \n",
        "    return x"
      ],
      "metadata": {
        "id": "aU7W-Cdm041n"
      },
      "execution_count": null,
      "outputs": []
    },
    {
      "cell_type": "code",
      "source": [
        "# creating input and output of model\n",
        "inputs = Input(shape=(shape_x, shape_y, 1))\n",
        "outputs = exit_flow(middle_flow(entry_flow(inputs)))"
      ],
      "metadata": {
        "id": "drtxXXoe04zH"
      },
      "execution_count": null,
      "outputs": []
    },
    {
      "cell_type": "code",
      "source": [
        "# saving the model\n",
        "xception = Model(inputs, outputs,name=\"Xception\")"
      ],
      "metadata": {
        "id": "UuW3scB004wh"
      },
      "execution_count": null,
      "outputs": []
    },
    {
      "cell_type": "code",
      "source": [
        "# Plotting architecture of defined model\n",
        "plot_model(xception, to_file='xception.png', show_shapes=True, show_layer_names=True)"
      ],
      "metadata": {
        "id": "exOeuafy04n8"
      },
      "execution_count": null,
      "outputs": []
    },
    {
      "cell_type": "code",
      "source": [
        "# Compiling the model\n",
        "xception.compile(optimizer='adam', loss='categorical_crossentropy', metrics=['accuracy'])\n",
        "xception.summary()  #gives the information about the architecture and configuration of the neural network."
      ],
      "metadata": {
        "id": "mPeOiS9g8RI1"
      },
      "execution_count": null,
      "outputs": []
    },
    {
      "cell_type": "markdown",
      "source": [
        "#**Method 4: CNN inspired by Goodfellow I.J**\n",
        "\n",
        "[Paper](https://arxiv.org/pdf/1307.0414.pdf)\n",
        "\n",
        "![CNN.png](data:image/png;base64,iVBORw0KGgoAAAANSUhEUgAABGcAAAEUCAYAAACGWVugAAAIa3RFWHRteGZpbGUAJTNDbXhmaWxlJTIwaG9zdCUzRCUyMmFwcC5kaWFncmFtcy5uZXQlMjIlMjBtb2RpZmllZCUzRCUyMjIwMjAtMDMtMTNUMDklM0EyOCUzQTEzLjE2NlolMjIlMjBhZ2VudCUzRCUyMk1vemlsbGElMkY1LjAlMjAoWDExJTNCJTIwTGludXglMjB4ODZfNjQlM0IlMjBydiUzQTczLjApJTIwR2Vja28lMkYyMDEwMDEwMSUyMEZpcmVmb3glMkY3My4wJTIyJTIwZXRhZyUzRCUyMk9YX2dUUHQyVWM2QzVvSFBWbDk3JTIyJTIwdmVyc2lvbiUzRCUyMjEyLjguNCUyMiUyMHR5cGUlM0QlMjJkZXZpY2UlMjIlM0UlM0NkaWFncmFtJTIwbmFtZSUzRCUyMlBhZ2UtMSUyMiUyMGlkJTNEJTIyNTRjMDI4MDQtOWQ2OS1iYTNmLThhY2EtMTAyMWIyN2I4MDUwJTIyJTNFN1Z0Yms2STRGUDQxUHRvRkNkZEhiOTI3VmQzYlclMkJ2czdETkNCS2FCTURHMjl2NzZUU0NnWUJEWEViVm5zS3d5T1FrSE9KZnZPd2s0Z0pONCUyQjBTY05IakJIb29HUVBHMkF6Z2RBS0JxQUF6NFYlMkZFJTJCY29scHFybkFKNkVuSnUwRTglMkZCZkpJU0trSzVERDYwcUV5bkdFUTNUcXRERlNZSmNXcEU1aE9CTmRkb1NSOVd6cG82UERnUnoxNGtPcGYlMkJFSGcyRVZGV1UzY0J2S1BRRGNXcExGd01MeDMzekNWNG40bndEQUpmWkp4JTJCT25VS1htTDhLSEE5djlrUndOb0FUZ2pITlclMkZGMmdpSnUyOEpzJTJCWEdQRGFQbGRST1UwRk1PTUYzb0dLcHBxYWFydTB1b0QxWGh1WGNuV3FQaUhveUlLUnNIS3I5ZyUyQmlHTVpIeGY4NnNjTDNGQ2g2dk1oU00yUVFYcGRqZklXcjc0allySjUydVo0T1NkRFk0ajdMN3hTWVZXZG4lMkI1NGt1ZXJOQ3lJSFZKdyUyQm1ZbUp1b0trenZ3V1pEMW5IaWxQV0VZbVhzVURmNEE1T1l0V3VqZjgyZSUyRno2VU1zbUxzJTJGMlRKV0dZJTJCTkxoS2NFcFh0Tnp6SmJ1WktCeXA0Q2liUlo2Tkk2WVFHWE5WZXE0JTJGQkxnVk4lMkYxdm1CMkpkTWhDM1k0M2dRaFJYTW01eW8yREolMkJZREw4anNveXlSQXRDejBNSlA1UVMlMkZGYW1OJTJCRDJES05vZ2lOTVdEJTJGQkNlSTNSeHd2WkxsVUUlMkZQN0VLaWxhcXp2UktIUGRFNWROaFdSOGtiMjgxQ2tKcnNRZGs5N0lwR1hUd2pIaUpJUE5xVVlMY0JHWUNnd1JIJTJCelF5UlF6QW4yd01qUUJSQUtFUFJMMVRzZ1lBMkJCWEpjaVAybnA2JTJGZjFjbTM1eUFoNk1zOHRsOGVoN0FSR2hadEdTcU5oa1dqMnhrc3ByenByaGVvd2FWN0liSGdlSXU4NTBVcEtGSDRkVTFad0NJaDl4enk5c29qaG5LYktnJTJCS1hoV0NUS3JXUW9GaHVLcVkwSjd4b01tZER1d0wlMkJWaXYlMkJoaHElMkJvR1BWU0R4c2RXVmo0MTJIJTJGJTJCZXBEek5sVE45MiUyQkpNWjVYbWpMNE10OGc3ZE1Wb3Bxa1FYQ3JGV3ExdnlZeXZkR1I4ODM4bkdQaEpFMHhYTCUyQk5oQ09zdVBnVFI2eWFZSmZGeHpUbjdiRmZVaDBwbXlGWEFVeUxySEZBT04wcklTdGlSR0lnWjBYR040OExYOGRibjFmcERYaUNEJTJGSmVyelgxbDhDWTNtNWFkS3lRc0RVUE1OU0ZueFlNb3dheG1FR2MlMkZUcDdNb1pQc0k2RkszdCUyQmJwMlNmVW1PZFo2TXclMkZTcE0wUUdsUXVzdzRYVkpNS2hkQlFPelNGUEduMXoxS1VlTDF3YmNnS2ZpUmtQcDl0bmd4THBNQUdtMjNnNG42alhoQkp4UWxEMU9UdUlFa3J0RjJMN0ZoM1dEZzlGb3JGJTJGR3lKWldLM3h0V2VFcnlkTHVqS3olMkZjSnJhNTJTcDFtZnBPUUZrYUNkVTFiS1ZrOWxaQU1rcXU1NzFyOFA2Slg3Y0MlMkJzRFdRMTRwM3Rzblc2eEhWJTJCOTlIdHMlMkZSNWJ4M3RzNVZMJTJCZnZiWWxKNHBic1lVbWxFcjcyJTJGTkZGQ1ZSTU92eUJUSDE2czlVJTJGUk0wVEZUYUxyVnloVGxBdlE2VEFGNnByZ1pVeGpLdlRGRjh6N1FyOFVVeCUyRmRNZXFab1pnckoyR1BrVU1yd3VXZVJDOEVHYkY5dnFLYjVjRlVla1QyRDZIbmtPanhpMWw4QXVEbVBORzkxMzU1SCUyQklPTSUyRnEydlU3Uk1VYkpDJTJGVUxqRTFLRWFWWXJ5JTJGSWxsWDJLMENRRVlYYjFWZ284NFoyZ1QlMkZhSTBkYnY3UkVqdk9kbkFobnVncGFFN25HM3g5MVBqTHMycUVIQzdYSFhic2ZkMTg1aDk3THZXJTJCcmwycVlvZUEzcndaUTluajgwdEZZZWUzRlRhJTJGMVRsOXV0Z1N6cnp2YlNOTm5PNm85ejhlczYzZUYxejViTmJEbkhTeG83MjU3SXppT3klMkJ1c3VpZ1JlWlVTbWRVVmttbXh2dWtmWDY2Q3JiVjF0aDRsMWQlMkY5Y3pNYjIlMkZoNEtaJTJGOEIlM0MlMkZkaWFncmFtJTNFJTNDJTJGbXhmaWxlJTNFpun6JAAAIABJREFUeJzs3Xtcjvf/wPGLbuaQQ5RFmNMoVowcl9XCZA7fWOY2fthmhDlN29chY2RySjPSyDCnOX8ZZnOYCGVmzfFGlJByCIl0fP3+6HFf63JX0lDxfj4e9+PhOtzX8d3H5/O+r8/nUhBCCCGEEEIIIYQQBUYp6AMQQgghhBBCCCGEeJlJckYIIYQQQgghhBCiAElyRgghhBBCCCGEEKIASXJGCCGEEEIIIYQQogBJckYIIYQQQgghhBCiAElyRgghhBBCCCGEEKIASXJGCCGEEEIIIYQQogBJckYIIYQQQgghhBCiAElyRgghhBBCCCGEEKIASXJGCCGEEEIIIYQQogBJckYIIYQQQgjxQtm1axcuLi4mn6FDh6rrbNy4ka5du9KgQQNcXV1Zvnw5GRkZOW4zIyODqVOncu7cuedxCqKAPe0Y2rlzJ4MGDWLgwIFs3rz5eZ2GKEIkOSOEEEIIIYR4oaxcuRJFUahXr162DesZM2agKApWVlZ07tyZKlWqoCgKEydONNlWWloa4eHhDB8+HEVR2Llz5/M+HVEAnmYMbd68GUVRsLa2pnbt2iiKwpw5c573KYlCTpIzQgghhBBCiBeKsWHt7+9vsiw2NpYyZcpQs2ZNrl+/DsD9+/exsbGhTJkyPHz4ULO+v78/iqKoH0nOvByeZgz16NEDnU7H7du3SUtLw8rKCjs7u+dyHqLokOSMEEIIIYQQ4oVibFgPGTKE3bt3q59bt26xZcsWFEVhypQpmu9cvHiR0NBQkpKSNPMTEhKIiorC19dXkjMvkacZQ6tXryYoKEidbtSoEU2bNn0u5yGKDknOCCGEEEIIIV4oxob1o5/du3fz7bffoigKK1eufKJtBgUFSXLmJfIsYghg6tSpKIrCggULnsFRi6JMkjNCCCGEEEKIF4qxYT1ixAhCQkLUz507d1izZg2KojBv3rwn2qYkZ14uTzuGHj58iF6vp1ixYsydO/cZHrkoqiQ5I4QQQgghhHih5DZeiMFgoFixYrzzzjua+R4eHuh0Oq5du5btNiU583J5mjF0//59OnToQPny5dm6deszPW5RdElyRgghhBBCCPFCya1hDdC7d28URaFr1674+/vTq1cvFEWhXbt2OW5TkjMvl6cZQxMnTkRRFFxdXZk8eTKTJ0/Gz8/vWZ+CKGIkOSOEEEIIIYR4oTyuYf3gwQOGDh2Kubk5iqKg0+nQ6/XExcXluE1JzrxcnmYMOTk5mYxdU7169Wd9CqKIkeSMEEIIIYQQ4qWUkZFBTEwMqampBX0oooiSGBJPiyRnhBBCCCGEEEIIIQqQJGeEEEIIIYQQQgghCpAkZ4QQQgghhBBCCCEKkCRnhBBCCCGEEEIIIQqQJGeEEEIIIYQQQgghCpAkZ4QQQgghhBBCCCEKkCRnhBBCCCGEEEIIIQqQJGeEEEIIIYQQQgghCpAkZ4QQQgghhBBCCCEKkCRnhBBCCCGEEEIIIQqQJGeEEEIIIYQQQgghCpAkZ4QQQgghhBBCCCEKkCRnhBBCCCGEEEIIIQqQJGeEEEIIIYQQQgghCpAkZ4QQQgghhBBCCCEKkCRnhBBCCCGEEEIIIQqQJGeEEEIIIYQQQgghCpAkZ4QQQgghhBB55u3tjYuLCy4uLri6ujJs2DDCwsIK+rDy7PDhw+rxu7i40LlzZ3x9fUlKSnrsdzMyMkhPT891na1bt+Ln55ftMj8/P/r27WuyjcGDBxMeHp73kyjiJIYkhoQpSc4IIYQQQggh8szd3Z0RI0YQEhLCnj178PX1xcLCgm3bthX0oeXJtm3bqFevHiEhIRw4cIAffviBN998k1GjRj32uz4+Pnh7e+e6TmBgIJ6entku8/T0RFEU5s+fr5nv6OjIvn378n4SRZzEkMSQMCXJGSGEEEIIIUSeubu74+/vr5m3evVq7Ozs1Om7d++yZs0aVq1axY0bN9T54eHh3Lx5k3379jF//nxOnjypLktMTGTFihV89913nDhxQrP9o0ePsnDhQsLCwnJ96iAoKOixx79t2zaaNGmimbd+/XpatmypTkdFRREYGMiCBQs4deoUALGxsfTr14/evXtjMBgAuHbtGj/88ANLly7lzp07wD8N6xMnTrBgwQJ+++03dbuenp706dOHSpUqER0drc5/tGEdHBzM/Pnz2b17tzovOjqaiIgIjh07xm+//cbly5c5d+4cR44cISAggNOnT/PgwQNWrVrFokWLuHv37mOvRUGRGJIYEqYkOSOEEEIIIYTIs+wa1mlpaeh0Oq5du8bNmzd5/fXX+eSTT/j888+xsrLi4MGDAOj1ejp37szIkSMZMWIEpUuXJiIigtTUVBo2bMj777/PmDFjqFixotrNZc6cOTRs2JCvvvoKJycn3N3dczy20aNH8/HHH5OamprjOo82rCMjI/nwww+ZPHkyAGfPnqVSpUoMGTKEESNGUL58ecLDwzlx4gRt27alTZs2bN++HYPBQPXq1Rk9ejQeHh7UqVOHe/fuERgYiJ2dHb169WLSpElYWVmxcuVKILNh7evry4QJE+jSpYt6DFkb1l5eXtjb2zNx4kQcHR0ZNGgQkNlg79ixIw4ODgQFBREUFIS9vT09e/Zk2LBhlCtXDldXV7744gtatWqV63UqaBJDEkPClCRnhBBCCCGEEHmWXcMawMbGhrCwMLy9venXr586f+nSpWojT6/XM2LECHVZu3btWLt2LefPn6d06dLqmB1btmwhLCyMhIQEypYtS0REBACpqanUq1cv17E1fH19cXNzIyEhIdvl27ZtQ1EUdDodZmZmKIqCjY0NMTExABw4cEDz9MSHH37I999/D2i7pPTv359Zs2ap633wwQf8/vvvBAYG0rhxY3X+119/zfDhw4F/GtYPHz6kfv36/PTTT8A/DeuYmBgqVqxIfHw8APfv38fS0pJz586pDXZj0iAoKIhmzZqp+7Gzs2Pu3LlA5lMitWvXzvEaFTSJIYkhYUqSM0IIIYQQQog8y6lhXbp0aSIjI3nvvfdo3rw5Hh4eeHh40L59e+zt7YHMhvWKFSvU7+j1en766SfS0tLw8PCgRo0aDB06lJCQEACOHDlC2bJl1W15eHhQrVo1Nm7cyLhx49QBWbN27wBYuXIlLVu2JDEx0eQ4H33qITU1lSVLlmBjY6N2d/n999/55ptv6N69OxUqVCAwMBDQNqwdHBwIDQ012X5gYCCffPKJZvqzzz4D/mlYA+zbtw9ra2tu3bqlNqx3796Nk5OTZnsdO3Zk06ZNBAYG8tFHH6nzg4KCGDx4sDrt5OTEgQMHgMwuNbVq1TI5tsJCYkhiSJiS5IwQQgghhBAiz7JrWB88eJDKlSuTlpZG9+7dmTt3LhEREeonMjIS+KchbfTo9IULF/D398fW1paZM2fy999/U7t2bc22IiIiuHv3LnFxcURFRREVFWXSBWXVqlW0aNEiTw1ryOxSU6pUKc6cOYO/vz9NmzZl3bp1xMXFMXTo0Gwb1o6Ojuzfv1/dRlxcHPHx8SaDuebUsAYYOHAgH330kdqwPnjwoOZJBgBnZ2d27Nhhst2goCDNtJOTk5qQKOwNa4khiSFhSpIzQgghhBBCiDzL2rBOTU0lLCwMOzs7Zs+eDYC/vz/dunUjLS0NgEmTJjFmzBgg54b1/v37sbW15eHDh0Dm64Ld3d15+PAhNjY2HD58GICYmBjq16/P1atXczy+GTNmPLZLStaGdXp6Oj/++CMVK1bk/v37dO3aVX0TTmJiIvb29uq0j48PY8eOBeDzzz9Xn25IS0vDzs6On3/++Yka1rdv38ba2hpzc3P27dtHQkIClStX5o8//gDg5MmTVKxYkevXr79QDWuJIYkhYUqSM0IIIYQQQog8c3d3p3jx4uh0OnQ6nWacCoCHDx/y/vvvU7NmTerXr8+bb76pjsWRU8M6OTmZ9u3b8+qrr2Jvb4+NjY06AOyvv/5K1apVadq0KZUrV862O4zR6NGj+eijjx47mKtxvBCdTkeJEiVo1KiR+labDRs2ULlyZd566y3eeOMNvLy8qFq1KhcvXmTHjh1YWVkxZ84cbt26Rdu2balfvz5WVlZ8+OGHZGRkPFHDGmDdunUoiqIO5rpx40asrKxo2rQplpaWaheeF6lhLTEkMSRMSXJGCCGEEEII8dTduHGDyMhIMjIy8vwd46t9U1JSNPNTU1M5f/58jk8yGOXlNch5cfv2bS5evKgeu/FpDOO/jU90AFy5coVr1649lf0aJScnc/78ec1+X0YSQ/knMVT0SHJGCCGEEEIIIYQQogBJckYIIYQQQgghhBCiAElyRgghhBBCCCGEEKIASXJGCCGEEEIIIYQQogBJckYIIYQQQgiRq+3bt+Pi4qJ+XF1dGTBgAEePHlXXmTRpkmYd42f79u0ADB48mODgYJNtr1ixgmnTppnM1+v1nDhx4qkcf3x8PC4uLtm+pWfhwoW4uLgQGxubr21HR0drzrdDhw6MHj1afbtQfmzYsEF99fLSpUvVtw4VZRJDOZMYEiDJGSGEEEIIIcRjBAUF4ejoSEhICCEhIezdu5cxY8ZQvnx5bty4AYCHhwfDhg1T1zF+jA1WR0dHNmzYYLJtHx8f+vbtazK/Vq1a6mt9/63Y2FjMzMyoXbu2ybKGDRui0+mIiorK17YNBgOlS5dWz3fTpk107NiRJk2a5Pt4/f39GTVqFACDBg1i5cqV+d5WYSExlDOJIQGSnBFCCCGEEEIA165dU59QeFRQUBDt27fXzEtJSaFChQrs2bMHyGxYz549O8ftP6uG9Zo1a0hMTMx1ndjYWMzNzXnrrbcIDQ1V5588eRJHR0csLS3VhnVCQgI//vgj/v7+7N27V103JCSEuLg4dTo4OJhbt25hMBgwNzfX7O/GjRsoiqK+HvnMmTMsXLiQ9evXk5SUpFk3ODiY+fPns3v3bnVe1oZ1eHi4up29e/fy4MEDNm3aRGBgINevX1e/Ex0dzeLFi9m5cydxcXF5emIkt3ueHxJDEkMi/yQ5I4QQQgghhODBgwe8/fbbLFq0yGRZdg3rK1euYG5urjbuCqphvX79etq0aZNrlxJjw3revHmMHj1anT9p0iRmzpypNqxTU1OxtbWle/fujBs3jlq1aqldQxYvXkyHDh2AzC46jo6OpKamZtuwDg4ORqfTcf/+fTZv3kzVqlUZN24cPXr0wMHBQW1ce3l5YW9vz8SJE3F0dGTQoEGAtmGt1+v56aefALC2tqZPnz5MnTqVrl27Uq9ePTIyMjh+/DjVqlXj888/R6/X06xZMwYMGPDYa5fbPc8PiSGJIZF/kpwRQgghhBBCAJCUlESPHj2YMGGCZn5QUBAWFhbqmBiOjo7odDq2bdumruPh4YFOp6NUqVKaz59//gk82y4pu3btonHjxhgMhmyXGxvWMTEx1KxZk4yMDAAaNWpEZGSk2rCOjY1l7Nix6vJFixbRu3dvdTvvvfceM2fOpF69epw5cwbI7JJiZmaGu7s77u7utGnTBjMzM6ZPnw6AnZ2d5okGNzc3Fi9eTExMDBUrViQ+Ph6A+/fvY2lpyblz53JtWG/atAnIvFdly5YlLi6OXr168d1336n76NatW54a1sbtZHfP80tiSGJI5I8kZ4QQQgghhHgJderUCRcXF3r06KGZn56ezvDhw/n000/VeY+OF7Jnzx4GDBhAq1at1HU8PDyYMWMGaWlpmo/R02hYr127Vm3cb926VbMsPDwce3t7jh8/brItY8MawNnZmQMHDnDq1ClatmwJoOmScvr0aebNm8eAAQOoUaMGer1e3U5MTAxlypTB19dXnWcwGChVqhTbtm1j27ZtbN++nQsXLgCZ3XZ0Oh0pKSnq+tOnT2fEiBHs3r0bJycnzXF27NiRTZs25dqwvnz5srq+tbU1sbGx1K9fn/DwcHX+rFmzsm1YP8k9zwuJIYkho/zGkPiHJGeEEEIIIYR4CV26dImoqChNQw1yblg/2iXlzp076HQ6EhISgPx3SfHz86N79+4m8y0tLfnrr7808+7evUtUVBRRUVHcu3dPsyyvDeuAgAA+++wzJk+ezJw5c9R9RUVFERYWho2NDQEBAZw/f55169ZpGtabNm3CxsaGd955R30yIrsuKUYZGRm88sor6jWCzG4wX375JQcPHqRZs2aa9Z2dndmxY0euDeusXW+M0/b29ppxUHx8fLJtWD/JPc8LiSGJISNJzvx7kpwRQgghhBBCAP90Txg/frxmfnYNa4AKFSpw8uRJIP8N6yNHjmBhYcHp06fVeatWrcLKyork5OQ8HXdeu6QAxMXFYWNjQ6NGjbh06RLwT8N6zpw5eHh4AJmNzYEDB6rTsbGx1KpViwsXLuDm5saCBQuA3BvWAK6urvj5+QGZA8U2aNCAbdu2kZCQQOXKlfnjjz+AzIFlK1asyPXr15+4YT18+HAGDx4MZN7Dxo0bP3GXlEfveX5JDEkMifyR5IwQQgghhBCCBw8e4OzszPfff2+yLKeGdfPmzZk1axaQ2bAuXrw4Op1O8zEOUOro6GiyvF+/fgB8++23WFhY0LhxY+rVq0fdunXZv39/no57/fr1tG7dOk+DuRq1b9+e1q1bq9PGhvX58+exsbGhZcuW1K1bl8mTJ2NlZcXGjRvp2rWrOiZHdHQ0VatW5eLFi49tWJ86dYrXX38dBwcHqlSpwmeffaYu27hxI1ZWVjRt2hRLS0tWrFgB5D6Ya3YN6xs3btC8eXNsbW1p1KgRw4YNY/jw4Y+9drnd8/yQGJIYEvknyRnxXNy8eZPhw4fTvHlzHBwc+PTTT4mMjHxu+x8+fLjat9TFxYX//Oc/zJ49Wx3l3Nj3NC+vi8tJUlISLi4uTJs2Lc/fWbFiBb/++mu+9ykKhsSzlsFgYNSoUfTt25d58+bx8OHDfO9XPF3GimCDBg1wdXVl+fLl6iPUz9qff/6piVNXV1c++eQTjh49qq7TqVMnxowZ86/2s3DhQlxcXLh69Wqu6z18+JBvv/2WPn36MHLkSE6dOvWv9iv+PSlLs7d48WK8vb05duxYvvebX9euXdMMzvq8JSUlcerUKSIjI0lPT8/z9/LyGuQnPY5z586pY3wkJyf/67IzIyODyMhI7ty5Y7IsOTmZ8+fP/6v/P8PDw9XuJikpKXzzzTeaMU1y8rTvucTQP8chMSSelCRnxDN369YtbGxsUBSF1q1b89Zbb1G8eHGsra0fW5l+WpycnFAUhbfffhtnZ2eqV6+Ooihqpn327NkoipLn0dyzk5iYiKIo2Q5G9qiLFy+yYMECSpYsydixY/O9T/H8STxrXb58GXNzc0qXLk2TJk1QFIWuXbvme7/i6ZkxYwaKomBlZUXnzp2pUqUKiqIwceLE57L/3bt3oygKNWvWxMXFhRYtWlCiRAleeeUV9bFzc3PzbH9FfRJeXl4oikJERESu6/Xv359ixYrRsmVLypcvj7m5ufoounj+pCzN3uHDhylWrBiKorBs2bJ871e8fAICAmjcuDFbt25lxYoV1KhRQ8o48UQkhgqeJGfEMzdmzBgURWHGjBnqPH9/fxRFYerUqUBmtnfJkiWMGTMGPz8/zaN2K1asYNasWZw9e5avvvqKadOmcevWLS5duoSPjw/BwcHqun5+fgQEBJgcg7ECZswmZ2RkULt2bSwtLYHsK2Dbtm1j7Nix+Pj4aEYuBwgJCcHb25uvvvpKHTDs0QpYWFgYPj4+HD58WPPd8PBwFEVRP5KcKVoknrXxPG/ePBRFUX8x6dGjB4qiEBcX94RXVjxNsbGxlClThpo1a3L9+nUg8/WaNjY2lClTRo2dv/76i6lTpzJu3Di2b9+uft8Yj6GhoSxfvhwvLy927NgBZMbwtGnT1F8kjx49io+PjzpegJExOZO1jFu2bBmKojB//nzANDkTGxvLnDlzGDNmDEuWLNGME3Dv3j3mz5/P559/TlBQkPprZNbkTFpaGn5+fsyZM4fU1FT1uxkZGZQtW5b3338fgKVLl6Ioivrot3j+pCzVlqWQOTZF06ZNeeeddyQ5I/Jlw4YNjBgxAm9vb5MyWYi8kBgqWJKcEc/cm2++SenSpTWV7JSUFEJDQzl//jwpKSk0a9aMYsWK8cYbb1CqVCksLCzU18e5uLhQsmRJrKysqFixovor14MHDyhXrhzvvvsukNmYUBRFHcgqK2MFbMeOHezatYvAwEBKlixJ//79AdMK2IgRI1AUhTp16mBpaYmZmRnr168HYMmSJRQrVowaNWpgYWGBmZkZBw4c0FTAIiIiqFy5Mm+//bbJ44UpKSlERUWxb98+Sc4UQRLP2ng+cOAAs2fPVt92MGzYMMzMzLh9+/bTvfDiiWzZsgVFUZgyZYpm/sWLFwkNDSUpKYl169ZhZmaGpaUlderUQVEURo4cCaCWT9WqVaNChQoUL14cRVHYu3cvU6dORVEUDh06BMBHH31E8eLFuXLlimZfxuSMXq9n9+7d/Pzzz3Tq1IkyZcqoFb6syZmIiAgsLCwoVaoUb7zxBsWKFaNZs2akpqaSlJREgwYNKFmyJLa2tiiKQseOHQFtcmbkyJGYmZmZvBo1PT2dkydPEhsby/Xr1+nfvz9lypTh7NmzT//iizyRstS068HChQtxcHBg8+bNkpwRQoiXkCRnxDNnYWFBvXr1cly+YsUKFEXhq6++AmDPnj0oiqK+hs3FxQVFUTh48CBpaWk0b96c4sWLk5KSwv/93/9RsmRJ7t27x+LFi1EUhd9//91kH8YKWNZP6dKl1cfgs1bALl26RLFixXBxcSE9PZ3bt29Trlw5Xn/9dQCqV69O7dq1SU5O5vr161SpUoWBAweqFbAuXbpga2vLG2+8kWsDNSIiQpIzRZDEc85++eUXypYtS8+ePfNzacVT9O2336IoCitXrsxxnbp161K+fHlu375Neno6zs7OFC9enMuXL6vJmc6dO5OSksLWrVtRFAVvb2+17DK+kcHGxgZnZ2eT7RuTM49+jIM6gjY588knn6gJIICJEyeiKAqrVq0iKCgIRVFYtGgRAOPGjaNixYpERESoyZkvvvgCRVFYvHhxrtfG2HWlf//+z238HWFKylKtmzdvYmlpycGDB9m2bZskZ4QQ4iUkyRnxzDVo0IBKlSrluHzs2LEoiqI+Hpyenk6FChXU0c9dXFyoUKGCuv6AAQNQFIXExER27NiBoihs2rQJDw8Pqlatmu3gX8YK2J49ewgJCWH9+vXUqVOHGjVqkJaWpqmA7dy5E0VR8Pf3V7/fpUsXihUrxs2bN1EUhQ8++MBkH8YKmPHTpk2bXCv+kpwpmiSes+fn50fx4sX54IMP1O4mouCsWbMGRVGYN29etsuTkpIoVqwY7u7u6jxj3Pz6669qcmbu3LkAREVFoSgKXl5eALRo0QIHBwdOnjyJoigEBgaa7MOYnOnTpw8hISHs27ePkSNHapIsWZMzrVq1olKlSmqcHT16FEVRGDdunNoFJusrUo2MyRnjZ+fOnblem7///ltN/OR0fcSzJ2Wp1vDhw2ndujU7d+7k66+/RlEUxowZw82bN/N+UV8y3t7emgHHhw0bRlhYWEEfFpDZRe5JBqMVBUNiSBQ2kpwRz1zv3r1RFIV9+/ap844fP45Op2PIkCH4+vqiKApbtmwB4MaNGxQvXpxOnToBmRWwihUrqt/NWgFLTU3F0tKS/v37Y2Fhob4u7lGP9isH8PT0RFEUTpw4oamAhYaGoigKo0ePVtd1cHCgTJkypKamUqJECZycnNRlBw8e5O+//1YrYDVq1GDo0KEoSu7jGUhypmiSeDY1YcIEihUrxtdffy1PIhQSBoOBYsWK8c4772jme3h4oNPpuHbtGqVLl+bNN99Ulxm7bISFhanJGWND9NHkjHFskJEjR6LT6bhx44bJMWQ35kxsbCyKoqhjv2RNzri5uWFmZsatW7cA2LRpE4qSOSbJ5MmTURSF3bt3A3D16lX27dvH3bt3NU/OVKpUCVtbW5ME4e3bt9Hr9QQFBQGojWnjwK/i+ZOyVMvNzS3bJ82MMS9Mubu7M2LECEJCQtizZw++vr5YWFgUirfG+Pj44O3tXdCHIR5DYkgUNpKcEc/cqVOn0Ol0VKpUialTpzJx4kTq1KlD8eLF2bdvH8ePH8fMzIzmzZuzZcsW/u///g9FUdTB+3KrgAEMGTKEEiVKoCgKoaGh2R6DsQLm7e3N5MmT8fT0pFy5clSuXJnExERNBSwpKYmaNWtiaWnJ6tWr1TeeGH8R69ixIyVKlGDRokVMmzYNRVGYMGGCpl95YmIir776KlWrVlXH4niUJGeKJolnbTwbuxrUqVOHyZMnq5/4+PhncfnFEzA2frt27Yq/vz+9evVCURTatWsHQM+ePVEUhZkzZ7Jq1SoqV65MzZo1SUpKemxyJiYmhuLFi1OiRAnc3Nyy3b8xOePk5MTkyZPx9vamVatWKIqivpoza3JmwYIFasJky5YtODo6YmZmxvHjxzl06BCKotC+fXs2bdpEkyZNKFOmDHfu3NGMOWOM/Tlz5miOJSMjgxo1alClShXmzp1Lt27dUJR/BiYWz5+Updqy9MaNG1y5coUrV66oA2f7+fn9q9fivujc3d01TzIBrF69Gjs7OwCio6OJiIjg2LFj/PbbbwBcv36d5cuXs3TpUmJiYtTvHThwgISEBDZt2sTSpUs1g9onJyezceNGAgICNK9Vv3jxombcKuN0bGws/fr1o3fv3hgMhmdy7uLpkBgShY0kZ8RzERwcTMOGDdXXQ9aqVYvVq1ery1euXIm1tTWKolCmTBm++OIL9VG+x1XADhw4oG4zJ4/2Kzc3N8fJyUl9W8Kjg/4dPXqUxo0boygKOp2Obt26qW88iYqKwsnJiWLFiqndOB48eGDyRoaAgAAUReG///1vtsckyZnb/e5SAAAgAElEQVSiS+L5H97e3tn+2vu41xqLZ+/BgwcMHToUc3Nz9d7r9Xq1whgXF0e3bt3Q6XQoikLjxo05evQowGOTMwDt2rVDUXIeF+PRMWeMg6V++eWX6pMtWZMzaWlpeHl5UaZMGRRFwdraWjNmzty5cylfvjyKomBjY6P+spk1OfPw4UNq1qxJ+fLlNW/2ATh06BD169dHURRKlizJkCFDSEtLexqXWuSTlKXZkzFn8ia7hnVaWpr6dGBgYCAdO3bEwcGBoKAgLly4QLVq1Rg8eDDDhw/H2tpaHZzc1taWtm3bMmzYMPr06UPVqlW5fPkyqamptGrVis6dOzNhwgRq1KjBjz/+CICvr6+mDmecPnHiBG3btqVNmzaat+CJwkdiSBQ2kpwRz9Xdu3dz/UU9Pj6+UHWLuHfvnuZNElklJiaSlJT0nI9IFCYSz6IoyMjIICYmRvNq6aySk5NzfMKvIGRkZOT4d5Xbsry6c+eOJGUKGSlLRX5k17CGzEHKw8LCCAwMxM7OTi37hgwZoukm4uvrS58+fYDMhvU333yjLhsyZAhffPEFa9eu1XRXCw0NxcbGRv1+dg1rkC4pRYXEkChsJDkjhBBCCCGEKFJyaliXLl2ayMhIAgMD+eijj9T5Tk5OmjF8Dh8+jIODA5DZsP7jjz/UZRs3buTdd9/F29vbpIFcqlQp4uPjpWH9ApAYEoWNJGeEEEIIIYQQRUp2DeuDBw9SuXJl0tLSCAwMxNPTU13WoUMHfv75Z3X6999/p0WLFkBmw9rYfQ1g1apVdOvWjWnTpjFmzBh1vnHw5/v375s0rCdMmCAN6yJGYkgUNpKcEUIIIYQQQhQpWRvWqamphIWFYWdnx+zZswFMGtZTpkzB3d2d9PR0MjIy6NOnjzqOlq2trfqERHJyMi4uLsyePZv9+/fz2muvqd3uvv/+exwdHQHw8/OjS5cuACQlJeHg4KBpWMuYgoWfxJAobCQ5I4QQQgghhChS3N3dKV68ODqdDp1Oh52dHXPnzlWXP9qwvnfvHh07dqRWrVrUrVsXZ2dntcFsa2vLBx98QIMGDbCxsaFTp048ePAAgLFjx2JpaUmTJk2oVasWx44dAzJf7PDqq69ib29P06ZN+eyzz9TG9I4dO7CysjJ5c5woXCSGRGEjyRkhhBBCCCHESyE2NparV69q5tna2mIwGIiPjzdZBpCQkMCFCxfUt4UZJSUlcf78+WwHGX/48KEMPv6CkhgSz4okZ4QQQgghhBAvLWPDWoj8khgST4MkZ4QQQgghhBAvLW9vb65du1bQhyGKMIkh8TRIckYIIYQQQgghhBCiAElyRgghhBBCCCGEEKIASXJGCCGEEEIIIYQQogBJckYIIYQQQgghhBCiAElyRgghhBBCCCGEEKIASXJGCCGEEEIIIYQQogBJckYIIYQQQgghhBCiAElyRgghhBBCCCGEEKIASXJGCCGEEEIIIYQQogBJckYIIYQQQgghhBCiAElypgg7efIkPXr0oHr16tSpU4fPP/+c+/fvF/RhqZKSknBxcVE/HTp0YNSoUcTExOTp+2lpabkuj46Opl+/ftku27t3L+3atePatWua+QsXLmTZsmV5O4HnqGfPnppr1bVrV2bOnMnDhw8BiIyM1Cw3fnr27AnA4cOH+eijj7Lddrt27bh69apm3s6dOxkzZsyzPaknJPEs8VwU4jk9PZ3p06fTokULKleuTNu2bQkODn4u+86rhQsXaq6rh4cHa9asydN309PTycjIyHWdKVOmsHfv3myX9evXj5kzZ2rmGf92Cpvt27drrpOrqysDBgzg6NGj6jqTJk3KNla3b98OwODBg7O9/ytWrGDatGkm8/V6PSdOnHh2J4WUpVKWFo2yVAghhClJzhRRx44do0qVKixZsoSbN29iMBho164dn3zySUEfmioxMRFFUfjll18ICQlh06ZN9OjRgyZNmjz2uyEhITg5OeW6jsFgwNbWNttlP/30E4qi4OHhoZnv5eXF5MmT834Sz0n16tUJCAggJCSEAwcOsHHjRurWrcu4ceOAzMp26dKlCQkJ0XyOHDkCwLZt23jjjTey3bZOpyMiIkIzb9myZbRv3/7ZntQTkHiWeC4q8dynTx86dOjA8ePHuX37NitWrKBChQqcPXv2uew/L7y8vOjZsychISEEBwczZ84cLC0t+d///vfY77Zv357du3fnuo5er+enn37KdpmtrS0lSpTgr7/+UucZ/3YKm6CgIBwdHdX427t3L2PGjKF8+fLcuHEDAA8PD4YNG2YSq7GxsQA4OjqyYcMGk237+PjQt29fk/m1atUiJCTkmZ2TlKVSlhaVslQIIYSpwldbEnny3nvvMWvWLM28S5cuUaFCBRISEgBITk5m48aNBAQEaH6pi46O5ty5c5w+fZqAgAB27doFwOnTpzEYDOp6Dx8+ZOfOnaSnp5vsf82aNSQmJuZ6jMYK2J07d9R5N27coFixYjx48ACAhIQEfvzxR/z9/dVfYlNSUpg9ezaNGjXi0KFDQOYvbevXrycgIECtTBgrYDExMQQFBbFq1SqSk5OBzApY27ZtqVOnDps3b1b3/2gF7MyZMyxcuJD169eTlJSkHveRI0e4cuUKK1eu5P79+4SGhhIZGcn333+vHufOnTv57rvvTCo3OcntmlWvXt2kwj5z5kzatm0LZFbAzM3Nc9z2s6yABQUF5Wm9f0PiWeI5q8Iaz0eOHMHKykq930aDBg3C29tbnc7uPkDmr/YPHjxg06ZNBAYGcv36dVJSUti5c6fmaYCTJ09y7tw5k/1fu3ZNfWIjN15eXowaNUozb9iwYfz3v/9Vp0NDQ5k3bx5Llizh+vXrQObfTJMmTZg+fbo67+TJkwQEBLB582b1GPV6PWvWrGHXrl189913mr9HW1tbBgwYQLNmzdT1H03O5PS3HB4ezq1bt9i6dSunT5/m77//5saNG2zdupXFixdz/fp1rl69yqJFi9iwYUO2f8tPcs2CgoJM4iYlJYUKFSqwZ88eIDM5M3v27By3/6ySM/v27cvz32JWUpZKWZpVYS1LC9rFixdx7tKVei1aoijKE3/qtWiJS7f/cOnSpYI+lZeK3DfxMpDkTBGUmpqKTqczeSz30XVatWpF586dmTBhAjVq1ODHH38EIDAwEGdnZ/R6PV999RVWVlasWLGC1atX4+zsrG5j48aNtG7dOtvtr1+/njZt2qi/Hmbn0QpYfHw8s2bNUh9vT01NxdbWlu7duzNu3Dhq1arF/PnzuX//Pn369KF69ep89913JCcn06xZMz744AOGDh1KpUqVOHbsGAaDAUtLSzp37sw333yDg4MDAwcOBDIrYG5ubvz222/Y2Nhw9+5dQFsB27x5M1WrVmXcuHH06NEDBwcHkpKSMBgM2Nvb07x5c0aOHElERATVq1fn3XffZcKECVhYWKiPv3/44YdYWVmRkpLy2PuW2zV7tAKWkZHB8OHDGTlyJFCwFbDRo0fz8ccfk5qamqf1n5TEs8TzowprPE+aNInBgwfnuk5O9wHA2tqaPn36MHXqVLp27Uq9evXIyMigfv36/P777+o27O3t+fXXX022/eDBA95++20WLVqU6zFkTc5kZGRw7NgxmjRpoiYcVqxYQfXq1fnvf/9Lr169sLGxITk5mS1btvDaa6+h1+s5c+YMa9eupXbt2owbN44WLVqoXSX0ej3NmjVj5MiRjBo1ilKlSnHhwgUgMzlz6NAhnJyc1KRG1uRMbn/Ler2eLl260LZtWw4dOkTfvn1p1aoVw4cPp2PHjtja2vLWW2/h7e1N9erV8ff3z/U6PO6aZZecuXLlCubm5mpyqqCSMwaDAQcHB0JDQx+7rpGUpVKWPqqwlqUF6eLFi9Ro1pzyfgFUWrc935/ycwKo4dhCGvrPidw38bKQ5EwRdPHiRV555ZVc11m7dq3m0d/Q0FBsbGyAzApY48aN1WVTp05lyJAhJCYmUq5cObWC4OHhweLFi3Pcx65du2jcuLHmF7WsjBUwMzMzdDqd+m/jr0uxsbGMHTtWHd9g0aJF9O7dG9A+urx06VI6d+6sbnfWrFnMnDkTg8FAiRIliIuLAyA4OBh7e3vgnwoYZI6B4OnpCWgrYHZ2dprH993c3Fi8eDEGgwGdTkdUVBQAERERlCxZkps3bwIwZMgQ/vOf/wCZfd8rVqyY50I+p2tWvXp13nzzTVxcXHB2dsba2pq3335bbdSdPHkSRVEoVaqU5tO9e3fg2T+67Ovri5ubm/rL69Mk8SzxXFTiuV+/fnzzzTe5rpPTfYDM5MymTZuAzF/8y5YtS1xcHJMmTWLYsGFA5rWpUaNGjk+FJCUl0aNHDyZMmJDjMXh5eVGsWDF0Oh3FixdHURTc3NzUcSp++OEHzTgp1apVU7tlZe3W9Nprr/HHH38AcPv2bZo2bcq9e/fQ6/Vq4xDgnXfeYePGjUBmciY0NJQzZ85gYWHBxYsXNcmZ3P6W9Xo9n376qbqsb9++6vgXcXFxKIqidpeaPXt2jmNp5PWaBQUFYWFhoY7T4ejoiE6nY9u2beo6Hh4e6HQ6k1j9888/gWfbrSkqKoqmTZvmqTsaSFkqZWnRKUsLUtsuXSk/59818NWG/qz5OHf7T0Gf0ktB7pt4WUhypgi6ffs2iqJkO8Df2bNnuX37Nt7e3prH7AFKlSpFfHw8gYGBmv7ngYGBagWld+/eLFy4kISEBCpXrkxCQgJr165VK69bt27VbDM8PBx7e3uOHz9uciyP/jqWkZHBX3/9Rfny5Tl16hSQ+bj0vHnzGDBgADVq1ECv1wPaCtiIESPw9fU12b7BYKBu3bqaaWMlJGsF7ObNm1SpUoUDBw6oFbCUlBR0Op3mV63p06czYsQIDAYDtWvXVudHRETQoEEDddrb25upU6eq07Vq1VIra0ZPes2y9isPCQlh2bJl1KxZU30c/+TJk5QtW5a0tDTNx9iAe1oVsHHjxqnHHR0drVm2cuVKWrZs+dhH1p+UxHMmiefCH88jR47kyy+/NJl/9+5dzpw5k+t9gMzkzOXLl9Vl1tbWxMbGYjAYqFq1Kunp6YwfP56JEycC0KlTJ1xcXOjRo4dmf+np6QwfPlyTyMjq0W5NiYmJDBw4UG3gpqSksG7dOsaPH4+rqytmZmZqo9CYnLl9+zalSpXKdvt6vZ4VK1Zopo0JCmNyBuDrr7+mQ4cO3Lt3T03O5Pa3rNfrWb58uTq/b9++6kDGaWlpmJmZqcuWLVvGgAEDTI7tSa7Zo2PO7NmzhwEDBtCqVSt1HQ8PD2bMmGESq0ZPIzlz9uxZNU6nTJmiWRYfH4+zs7P6dEtupCzNJGVp4S9LC1ItxxZPpYFv/NRr0bKgT+mlIPdNvCwkOVNE1apVi59//lkzLzU1lXLlyvHnn38ybdo0zYj7qamplChRgvv372sqXKCtgP3888+0a9eO5cuX079/fyCz4REVFUVUVBT37t3T7PNJKmBG7du3Z+HChYSFhWFjY0NAQADnz59n3bp12VbAvLy8NBXWe/fuceXKFZNB/3KqgEFm5cHW1pbPPvuMyZMnk5GRwSuvvKL5tWfSpEl8+eWXJtuNiIjQTHt7e+Pj46O5F49WwJ70mmXXr9zLy0u9h//m0eXy5cvz999/a+bNnz9f/YUvq7i4OPW4H31UedWqVbRo0eKZVMAkniWesyqs8bxs2TIcHR1N5vv6+tK1a9dc7wP8k4wxyjrdrFkz9u/fT926ddUuQpcuXSIqKkqT0IEnT85AZgy++uqrALi7u9OzZ092797NvXv3aNiwoUly5t69e5QoUULzBE9kZCQPHz40GRA4p+RMcnIyDRs2ZMGCBWpyJre/5Ue327dvX3U6LS0NnU6nLsspOfMk1yy7bk137txBp9Op9zC/3Zr8/PzUpxeysrS01AyWDJnXyRinxoGIjYzJmaxJq9xIWSplaVaFtSwtSIqiPNVGfmEc7PxFJPdNvCwkMouoxYsXU69ePc6fP6/OmzhxInZ2dqSnp7N//35ee+014uPjAfj+++/VRkVuFbCUlBSqVKlC8+bNH/t62Lw+upy1Amb8lefgwYPMmTNHfWNCeno6AwcOVKdDQkLUXy+3bt2Kvb29+mvgp59+ypgxY56oAgbQsWNHypUrpz667Orqip+fH5A5+GCDBg3Ytm3bU6mAPek1y64CNnfuXPV6/JsKWOfOnRk6dKj6a+/t27dp3ry5eu55MWPGjGf66LLEs8RzVoU1npOTk6lduzZff/212uXi0qVLVKtWTX3CI6f7ALknZ+bMmUPr1q155513cj0GYxed8ePH57jOo8mZpKQkBg8ezLvvvgtAuXLlOHnyJADnzp3jlVdeUafbt2/Pzp07AWjatKn6xEZUVBSlS5dWn3DJS3IG4ODBg1SoUEGtCOf2t/w0kjNPcs2yS84AVKhQQb0e+U3OHDlyBAsLC06fPq3OW7VqFVZWVurgtI8TFRVFs2bN8tytCaQslbJUq7CWpQVJGvlFk9w38bKQyCzC/Pz8qFixIo0aNaJGjRo4ODioFUqAsWPHYmlpSZMmTahVqxbHjh0Dcq+AAQwePJi6deuqjY/srF+/ntatW+dp0D9jv3IzMzNsbGyYO3cuAOfPn8fGxoaWLVtSt25dJk+ejJWVFRs3buT69eu8+uqr9OrVC4ChQ4dibW1N3bp1ady4MXFxcU9cAYuMjKRs2bJqBezUqVO8/vrrODg4UKVKFT777DN1O8+iApbbNcuuArZ9+3asra1JSEhQ+5XrdDqTz5UrV9i2bVu2yyMiIoiOjuatt97C2tqapk2bUqFCBQYNGqR5ND83o0eP5qOPPnrmg/5JPEs8F4V4joyMpE2bNlhZWdGkSRPKly+v6SaS032A3JMzV65coXjx4pruQo968OABzs7OfP/997keY9YxZ3Q6HaVLl6Zdu3ZERkYCMGbMGKpWrUrz5s159913+eCDD2jevDmQGQ82NjYEBwfz559/UqtWLZo0aUKFChWYN28eYJpEyS05A5nxnrUinNPf8rNIzuR2zXJKzjRv3lx945GHhwfFixc3icVBgwYBmcmZR5f369cPgG+//RYLCwsaN25MvXr1qFu3Lvv373/sMUP+BgQ2krJUytKiUJYWFGnkF01y38TLQiKziEtPT8dgMHD58uVsK0wJCQlcuHAhT68cfRJ5eV1mXiQlJXHu3Dm1f3dycrJ6HmlpaeoAlpD5q87FixdzrRg+qYyMDCIjI00er34WntY1y6+YmBj+/vtv9e0UefU8X5cp8fzvSDw/3tOK5/j4eE6cOJHt+B7P6j5cu3ZNM1jtv3H16lXNW32yxuaDBw/UuExPTyciIuKJr/PjPKu/5Uc9zWuWH0lJSZw6dYrIyMgnOtd9+/Zpnn55UlKW/jtSlj5eUX2VtjTyiya5b+JlIZEphBBCCCGEeOFJI79okvsmXhYSmUIIIYQQQogXnjTyiya5b+JlIZEphBBCCCGEeOFJI79okvsmXhYSmUIIIYQQQogXnjTyiya5b+JlIZEpiI+Px8XFBX9/f5NlCxcuxMXFJdc3L+QmOjoaFxcX9dOhQwdGjx5NTExMvo93w4YNzJ8/n7S0NHx8fLhy5Uq+t/U0eHt7q+fn6urKsGHDCAsLK9Bjyiqvb154UUg8/zsSz8+Pn58fLi4u3L59WzM/MTERV1dXfH19873tKVOmaGK1Z8+emjch5UeXLl1ITExk7969rF69+l9t69+KiIjQnF/37t2ZPXt2nl9T/aylp6c/1QFqn5WiWl4CLF26lIMHD+Z7W0/Dhg0bNOfYr18/1q5dW6DHlNWLVF4+LdLIL5rkvomXhUSmIDY2FjMzM2rXrm2yrGHDhuh0ujy9DjI7BoOB0qVLExISQkhICJs2baJjx440adIk38fr7+/PqFGjSE5OxsnJiVOnTuV7W0+Du7s7I0aMICQkhD179uDr64uFhUWBviHEKCQkBCcnp4I+jOdK4vnfkXh+fjw9PdHpdCxdulQzf+3ateh0ujy9Kjoner2eYcOGERISQnBwMNOnT6d8+fL873//y/c2K1asyJ07d1i4cCFjxozJ93aehvDwcMzNzdW/xfXr19O+fXucnJye+Rug8qJ9+/bs3r27oA/jsYpqeQkwaNAgVq5cme9tPQ3+/v60bduWkJAQ9u/fz5IlS6hTpw7jx48v0OOCF6+8fFqkkV80yX0TLwuJTEFsbCzm5ua89dZbhIaGqvNPnjyJo6MjlpaWauUsISGBH3/8EX9/f/bu3auuGxISQlxcnDodHBzMrVu3MBgMmJuba/Z348YNFEVRX+MaHBzM/PnzTSqyycnJbNy4kYCAAE6cOKHOz1o527t3L8nJySQmJhIaGkpcXBxLly5l9erVml9Qo6OjWbx4MTt37iQuLk6zvZzs27ePiIiIx67n7u5u8qvj6tWrsbOzAzJ/BT9y5AhXrlxRK5I5ndupU6eIjY1l3759LFy4kNOnT2u2m921unPnDocPHzaZTklJYfbs2TRq1IhDhw499jxeFBLP2ZN4Lnw8PT3p2LEjbm5umvkeHh64ublpkjOhoaHMmzePJUuWcP36dSAz1rM+OXD16lX1KSe9Xs/s2bM12x02bBiDBw8G4Pr16yxfvpylS5eaPMlw5swZFi5cyPr160lKSlLnG5Mz0dHRahIxPDycmzdvsm/fPubPn8/Jkyc12/rll19YvHgxV69e5eDBg5rt5SQvr+gNDw+nYsWKmnnp6enY2dmpTwiFh4dz69Yttm7dqsZedueWnJys/s0vXbqUDRs2aP7ecrpWR48e5caNGybTp0+fpkmTJkyfPl29V4VVQZeXOcVaXsrL8PBwrl279kzKy2vXrrF9+/bHrufv74+7u7tm3qVLlyhbtizR0dFFprws6Nd5P0/SyC+a5L6Jl4VEplArZ/PmzWP06NHq/EmTJjFz5ky1cpaamoqtrS3du3dn3Lhx1KpVS328ePHixXTo0AGA7du34+joSGpqaraVs+DgYHQ6Hffv38fLywt7e3smTpyIo6MjgwYNAiA1NZVWrVrRuXNnJkyYQI0aNfjxxx8BbeXM2tqa2NhYDAYD9evXp3v37kybNg0HBwc++eQTAI4fP061atX4/PPP0ev1NGvWLE+/SBsMBhwcHDQV1uxk15hNS0tDp9Nx7do1DAYD9vb2NG/enJEjR+Z6bp6enrRq1Yr//Oc/jB49mkqVKqkVxJyuVWhoKK1atVL3bZy+f/8+ffr0oXr16nz33XePPd8XhcRz9iSeCx9PT098fX2pVq0aN2/eBOD+/ftUq1aNOXPmqPd1xYoVVK9enf/+97/06tULGxsbkpOTuX//Pg0aNCA4OJj09HRat27N5s2bAdPkTHp6Ou3bt2f8+PFcuHCBatWqMXjwYIYPH461tbWaVNm8eTNVq1Zl3Lhx9OjRAwcHB7XRbEzOBAYG4unpqe6nc+fOjBw5khEjRlC6dGk1CfjJJ5/Qpk0bJkyYQMuWLalatWqensIYPXo0H3/8MampqTmuk11yBmDy5MlqAkqv19OlSxfatm3LoUOHcjy32NhYqlatSsuWLfnyyy9p27Ytbdu2JSMjI9dr5ebmxs6dO9V9G6e3bNnCa6+9hl6v58yZM48934JUkOVlTvcjr+WlXq/np59+eibl5YMHD3j77bdZtGhRrutll5wBcHFxYc2aNUWmvFy/fj1t2rTJdxe2okQa+UWT3DfxspDIFGrlLCYmhpo1a6r95Bs1akRkZKRaOYuNjWXs2LHq8kWLFtG7d291O++99x4zZ86kXr16aoXUYDBgZmaGu7s77u7utGnTBjMzM6ZPn05MTAwVK1YkPj4eyGyUWFpacu7cOdauXat5HDc0NBQbGxsg58ZsiRIl1IrFgQMH1F/6e/XqpamcdOvWLc/dBaKiomjatGmuXQGya8wC2NjYEBYWhsFg0Dwantu5eXp68u6776rL1q5dS/PmzXO9VjlVzuDlfKxZ4jlnEs+Fi6enJ7Nnz2bIkCFqI3DdunUMGDCA+fPnq/f1hx9+IDg4WP1etWrVOHv2LACHDh2iQYMGTJ48mY8//lhdR6/X06hRI9zd3enWrRtVqlShTp06XLt2jSFDhuDt7a2u6+vrS58+fQCws7PT/DLv5ubG4sWLgZyTMyNGjFDXb9euHWvXruX06dNUq1aNhw8fAnDs2DEURclzFxlfX1/c3NxISEjIdnlOyZnFixfTqVMn9dg+/fRTdVlO5xYbG4uiKOoTBunp6TRq1Ijt27fneq1ySs5A0erWVBDlJeR8P/JaXmZNzjyL8jIpKYkePXowYcKEHNfJKTnTp08fZsyYUaTKy127dtG4cWMMBkOev1MUSSO/aJL7VvCWL19O165dsbOz4/333+fnn39+LvuNj4/XPJ35opPIFGrlDMDZ2ZkDBw5w6tQpWrZsCaB5rPn06dPMmzePAQMGUKNGDfR6vbqdmJgYypQpoxnE0mAwUKpUKbZt28a2bdvYvn07Fy5cAGD37t0mFYeOHTuyadMmvL29NRVigFKlShEfH59jY7Zu3bqa/dra2gJQv359wsPD1WWzZs0yqZydPXtWHdBvypQpmmXx8fE4Ozurv249KqfGbOnSpYmMjMRgMGj68+d2bp6ensyaNUudf+vWLUqVKpXrtXqZGrN5IfEs8VxUGJMzv//+O+3atQOgZ8+e/PLLL5rkTEpKCuvWrWP8+PG4urpiZmamaUCNGjWKKlWqaBIZer2ejz/+WI3V/fv38+DBAwCcnJw0jeLDhw/j4OBASkoKOp2OlJQUddn06dPV5EtOyZkVK1Zo9vvTTz+xevVqk0arubm5SXJm3LhxaqxGR0drlq1cuZKWLVtm290ip+TMjBkz6N+/v3osy5cvV69hTucWGxtL2bJlNdsZPnw433zzTY7XCl6s5ITJKuEAACAASURBVAw83/Iyt/uR1/Iya3Lm35SXAJ06dcLFxYUePXpo5qenpzN8+HBNki+rnJIznTp1YunSpYWyvFy7dq36N7d161bNsvDwcOzt7Tl+/Hi25/sikEZ+0ST3rWB9+umnKIrCa6+9RteuXbG2tkZRFKZOnfrM9+3i4oKlpeUz309hIZEpNJWzgIAAPvvsMyZPnsycOXOAfypnYWFh2NjYEBAQwPnz51m3bp2mcrZp0yZsbGx455131F/Xsnus2ejgwYM0a9ZMM8/Z2ZkdO3Ywbdo0zYCTqamplChRgvv37+fYmDVWxoz7NU7b29trunL4+PiYVM6Sk5OJiooiKipKM4YA/NOYNVbyH5VdY/bgwYNUrlyZtLQ0k2PL7dw8PT3x8fFRl129epXy5cvneq0erZzt2rXrhW3M5oXEs8RzUWFMzqSnp1O9enUuXrxI9erVSUlJ0SRn3N3d6dmzJ7t37+bevXs0bNhQTc6kpqbSvHlzbGxsNOOAZDfmjFGHDh00v3j9/vvvtGjRgoyMDF555RVNkmfSpEl8+eWXQM7JmaxvgTJOb9y4UTOWTnp6OiVLljRJzsTFxamx+mg3plWrVtGiRYsnSs506NBBjd+sx5bbucXGxlKyZEnNQMKffvopfn5+OV4rME3OvPXWW0U6OfM8y8vc7kdey8usyZl/U15C5jgxUVFRXL58WTM/P8mZe/fuUalSJf76669CWV7evXtX/Zu7d++eZpkkZ6SRX1jJfSs4e/fuRVEU3n33XfVp2Dt37vDmm29SokQJDAYDKSkp+Pj4aBK+s2bNUsfaWrJkCd999x1//fUX48ePZ9GiRWpyfvfu3fj4+HDnzh0AwsLC8PHxITo6mj///JOGDRtSrly5QvFiiudBIlNoKmdxcXHY2NjQqFEjLl26BPxTOZszZw4eHh5AZoVl4MCB6nRsbCy1atXiwoULuLm5sWDBAiD3yllCQgKVK1fmjz/+ADIHIKxYsSLXr19n//79vPbaa+pjvN9//z2Ojo5Azt1AcqqcDR8+XB2DICkpicaNGz9RN5BmzZrluRtIamoqYWFh2NnZqQ2jR48tt3Pz9PTkjTfeUBsj48ePp0uXLrleq2PHjlG5cmV1AMRBgwZpKmdZK24vA4nnnEk8Fy7G5Axk3ldXV1d1rIysyZly5cqp45ycO3eOV155RZ2eOHEiQ4cO5eDBg9StW1dtbOWWnJkyZQru7u7q65779OmDl5cXAK6urvj5+QGZMd2gQQO1QvQkyZmrV69iYWGhPimxevXqJ+rWNGPGjCfq1nTjxg2mTJmCtbW15hpkPbaczs3YrWnZsmVAZqPYysqKP/74I9dr1a1bN/UaX7x4kVKlSmmSM1kTN4VVQZWXkPP9yGt5mZfkzL8pL43dmnJ789KjyZmLFy/i7u5Oly5dTI4FCnd5Kd2apJFfmMl9KzjDhg1DURTN4OOQ+RSeoijMmjWLxMREFEXRlK8VK1akffv2ADg6OlKuXDksLS2pUaMGiqKoZaeXl5emfuDv74+iKISEhODn50eFChXQ6XT06tXrOZ1xwZLIFJrKGWRWKlu3bq1OGytn58+fx8bGhpYt/7+9O4+OqszTB/7eWlJVqTVAICEsgRAgrAFM2FdlkR0NEAiyiEhAdrDFNgouICoIjkCziW1jNy0qc37do93OMMo56qhznNG2wWk1smjjTtuCbAo8vz8udUmRSlKV2u577/M55z3dJiGp5H0qyffJrbd6Ii8vD6tXr0ZmZiZefPFFjBkzRntc92effYbs7GwcOXKkzl/OXnzxRWRmZqJ79+5o1KhRyOXxK1euRKNGjVBYWIjc3Fz87//+L4Doh9lvv/0WRUVFaN++PTp27Ig77rgDCxcurPPrEs0BqhaLBTabDTabDQUFBdi4cWPY21LX51ZeXo7Ro0ejdevW6NChA/Lz8/Hxxx/X+rX66aef0KdPH+Tk5KCoqAj33HOP9gvZN998gyZNmpjmGxrAPNeEedafquXMG2+8ASEEXnnlFQCh5czy5cuRnZ2NoqIiDBs2DJMmTUJRURHefvvtkEJmyZIlmD9/PoDay5nTp09j+PDhyM3NRV5eHgYOHKgNi4cPH0Z+fj66dOmCxo0bY8GCBdq/i6acAdTzXxo0aIDu3bujrKwM+fn5OHnyZJ1fl6VLl2LWrFl1HggshNByGggEMHLkSBw5ciTsbantc/vqq6+QkZGBG2+8EYWFhQgEArjvvvvq/Fq9+OKLSE9PR69evTBkyBCMHTtWK2QqKiqQk5MTclaQHqXy+2VtWYvk+2Uk5Ux9v1+ePXsWAwcOxPbt22t9u02bNkFRFNhsNlitVjRr1gzl5eU4c+ZMtdtS1+eWyu+Xzz//PHr37s0DgTnk6xb3LXWGDRsGIYT2sy/oL3/5C4QQuO222yIqZ4QQ+Pd//3cAwLhx4yCEwAcffFBrOQPwYU1EtTp37hw+/vhj7VK0CxcuaJcw19eFCxfwySefaJfKVXXq1Cl8+umnIZebR+v999/XLln+6aefsHbt2pDHxdfk4MGD+OSTT+r9cesS7nMrLy/Htm3bcO7cORw5cqTa17amr9WlS5dQWVmp/UJY1cWLF8N+bYl5jifmObFOnDihPf0wgLh8Db766iucOHGi2ssvX76Mo0ePapcY18ePP/6IV199FadPn8YXX3yB8+fPo0mTJhHdvyJ5Ku36Cve5ffXVV8jKygIAfP755/jhhx+q/buavlbff/99jVcDnT17NubvJ3qSiO+XtWUtld8vv/zyy4ReQq+375d8Km0O+XrHfUudmTNnQgihPRFB0H/8x39ACIGKioqIyhmPx4OLFy8CUB/mJITA3r17Wc5cg8kkw9u6dSu6du2KP/zhD9izZw+aN2+uXbKtN8FfzohqwjyTDC5cuIDmzZvj/vvvx4EDBzBt2jTMmzcv1TcrrKrlDBkLv1/StTjky4n7ljo7d+6EEAJ33nlnyMsnTZoEIQT+/Oc/a+XMpEmTAKjPKudwOELKGUVR8M033wAAVq9erV0tHCxnPvzwQwDqw7VZzhAZ3AsvvKA9C0TwrAY92rNnDw4ePJjqm0E6xzyTDP7+97/j/vvvx8KFC7Fjxw7tL2Z688MPP2DZsmWpvhmUIPx+SVVxyJcT9y11fv75Z3Tp0gVCCJSVleHxxx/HyJEjIYQIOfjf5/MhIyMDW7Zs0Yqbax/WNGXKFDzzzDNo2rQpGjZsiB9++AEbNmyAEAIlJSV44okn0KRJk5ByZvjw4XA4HFp5Y3RMJhERERERGR6HfDlx31LrH//4B8rKyuDxeCCEQEZGBhYvXoxz585pb7N161akpaXBarVi1qxZ8Hq9IeVMdnY2RowYASEEsrKytPNnvvvuOxQWFkIIgZycHJSWloaUM88++ywyMjLQpk2b5H/iKcBkEhERERGR4XHIlxP3TR8uXbpU68HhFy5cCHv+1XXXXYfc3FwAqPFZGL///vtaP25tTxJgJEwmEREREUnr6NGjGDRoULV19913o7KyErfddlud7+Py5cshB/Tq9WF4FBsO+XLivsmtajlDtWMyiYiIiEhahw4dgsvlwhtvvBGyDh8+jPfffx+FhYV1vo+HHnoIFRUVANSntu/Xr1+ibzalAId8OXHf5Pbggw/irrvuSvXNkAKTSURERETSOnToEDweT9jXXVvOHDt2DNu2bcOWLVtw+PBhAOozdk2fPh1TpkzBoUOHsH79enTs2BH/9V//BUC9qubll1/Gjh078Mknn4S87++++w4HDx7E5s2bdX3gMKk45MuJ+0ZmwWQSERERkbQiLWc++ugjNGjQAPPmzcOiRYvg8/nw/vvv469//Sv69++PPn36YP/+/SgrK0OzZs3w5JNPAgDGjRuHYcOG4d5770WrVq2wceNGAEBpaSlGjRqFxYsXY9GiRXC5XKisrEzOJ031wiFfTtw3Mgsmk4iIiIikdejQIQgh4HQ6Q9bx48dDypnXX38du3bt0v7d1KlTsX37dgA1P6zpwIEDyM3N1c6jOXLkCDIyMgCo5cyiRYu093f99dfjueeeS/wnTPXGIV9O3DcyCyaTiIiIiKR16NAhuN1uXLx4MWQB1R/W9Nprr2Ht2rWYMGEC/H4/tm3bBqDmcubRRx9Fbm4uSkpKtGW323Hy5EmUlpZiz5492vsuLS3F73//+2R92lQPHPLlxH0js2AyiYiIiEhakT6sadOmTejevTv27duHr7/+GvPnz6+znHniiSdQWlqKysrKkPXTTz9VK2NYzugfh3w5cd/ILJhMIiIiIpJWpOXMmDFjsHnzZgDAjz/+iM6dO2v//dBDD2HlypUA1HKmV69eAID33nsPLVq0wMmTJwEAr7zyCnr37g2gehnDckb/OOTLiftGZsFkEhEREZG0Ii1nXnjhBTRs2BB9+/ZFp06dsGLFCmRnZ+PIkSN4+eWXkZmZiQ0bNuCbb75BkyZNMHnyZADAunXrkJmZia5duyInJwcHDx4EwHJGRhzy5cR9I7NgMomIiIiIyPA45MuJ+0ZmwWQSEREREZHhcciXE/eNzILJJCIiIiIiw+OQLyfuG5kFk0lERERERIbHIV9O3DcyCyaTiIiIiIgMj0O+nLhvZBZMJhERERERGR6HfDlx38gsmEwiIiIiIjI8Dvly4r6RWTCZRERERERkeBzy5cR9I7NgMomIiIiIyPA45MuJ+3bV6NGjMWjQIAwaNAgjRozAypUr8cUXX6T6ZkXl4MGD6N+/Pxo1aoQ2bdpgxYoVOHv2bJ3/7vDhwygpKcFrr70GALh48WKCb2nyyZtMIiIiIiKiCHHIlxP37apAIICnn34ab7zxBl5++WXMmzcPWVlZ+Oyzz1J90yJy/PhxNGzYEM8++yxOnz6Nzz//HCNHjsSiRYvq/LezZ8/GmjVrcO7cOQCAzWYzXEEjbzKJiIiIiIgixCFfTty3qwKBAN5///2Ql91+++0oLy/X/vuHH37A3r178dvf/hbffvut9vJXX30VZ8+exf79+7Ft2zZ888032us+++wzbNu2DTt37sTXX3+tvfzy5ct4+eWXsWPHDnzyySe13rZdu3bVefv37t2LXr16hbzsr3/9K2bMmKH99zfffINnnnkGTz/9tHZV0EcffYTevXvj/vvvx5dffok33ngDFosFL730Ei5evIjXXnsN//znP7Fnzx7s3bsXP//8M95//31s3rwZb7zxhva+L168iD/+8Y/YuHEjnn/+eZw/fx4A8OGHH+L//u//Qm5TXZ9vIsibTCIiIiIioghxyJcT9+2qcOXMwYMH0a5dOwDAd999h/z8fMyePRvLli1DZmYm3nzzTQBAVlYWysrK8OCDD2LMmDFo06YNLl++jI8++ggNGzbEwoULMX36dGRnZ+P06dMAgHHjxmHYsGG499570apVK2zcuLHG27Z06VLceuut+Pnnn2t8m8rKSlitVqxduxZffvlltdd/+umnaNq0KebOnYuFCxciKysLhw4dwp/+9Cfk5+ejpKQEf/nLX7Bx40YoioJf/OIXuHDhApo1a4aRI0finnvuQUFBAfr06YOhQ4fiF7/4BZxOJ9577z0A6tU3RUVFuOeee9C7d2+UlJQAAA4dOoQWLVrgu+++w4kTJ9CyZUscO3Ysip2JD3mTSUREREREFCEO+XLivl0Vrpz55JNP4HK5AAAVFRWYPn269rqnn34a48ePB6CWM/v37wcAnDt3Dm63G19//TV27tyJwYMHa//mySefxJdffokDBw4gNzcXly5dAgAcOXIEGRkZtd6+devWYcSIETh16lSNb/Of//mfGDBgAOx2O7p06YKHHnpIO3Nm3rx5qKioCHl/ZWVlAIDx48fj3/7t37TXVX1YU7NmzfDHP/4RAPDcc88hMzMTP/30EwD1nJ5nnnkGAHD33XdrV+N8/PHHyM7O1t7fo48+iilTpmDUqFH4zW9+U+vnmSjyJpOIiIiIiChCHPLlxH27Klw5884776Bly5YAgJEjR6KoqAglJSUoKSnBDTfcgM6dOwNQy5nPP/9c+3dZWVn46quvcPz4cRQWFqJr166455578OmnnwJQy4rc3FztfZWUlMBut+PkyZO4++67tYOJrz3v5tlnn0XPnj3x448/1vq5nDp1Ci+88AJ69uyJTp064eeff0a/fv1w4MAB7W3eeustdOnSBUDd5UzwSpwDBw7g+uuv195u5syZ+PWvfw1AfcjU7t27sXDhQhQWFiIrK0t7u0uXLqFHjx4YMWJErbc7keRNJhERERERUYQ45MuJ+3ZVuHJmzZo12tUxEyZMwMaNG1FZWamto0ePArhaxgRd+99vvfUWKioq0KhRI7z11lt44oknUFpaGvK+Kisr8dNPP+Hrr7/GsWPHcOzYsWoPY/rtb3+L4uLisOXMqlWrsHv37pCX/fOf/0RaWhr+9re/YejQodoVMADw2muvobi4GEDd5Uzwczlw4ABuuOEG7e2C5czZs2fRtGlTVFRU4N1338UXX3wRUs4cO3YMrVu3RvPmzUPO40kmeZNJRBSjrJzmEEJwVVntuxWleltMzWiZZJ6ISE845MuJ+3ZV1XLmzJkzeP7555GRkYF33nkHALBp0yaMHTtWKy1WrVqF5cuXA6i5nHn44Ye1hw4BwNixY7Fp0ya89957aNGiBU6ePAkAeOWVV9C7d+9ab98jjzxS68Oa9uzZg4KCgpCn/3799dfh8/lw7tw5PPDAAxg/fjwuXbqEy5cvo6ysDCtWrAAQvpwJHugbSTnzP//zP2jcuLH2MK1nnnkGjRo1AqBeNTNw4EDs27cP69atw8SJE2v9PBNF3mQSEcUoOED6F27lqrJk/qVFdkbMJPNERHrBIV9O3LerAoEArFYrbDYbXC4XiouLQx4GdP78edx8881o0aIF2rZti27dumlFSE3lzJEjR5Cbm4u2bduidevW6NGjh3blyLp165CZmYmuXbsiJycHBw8erPG2LV26FLNmzar1QGAAWLFiBXw+H7p27YoOHTqgZcuW+NOf/gQAOH36NIYPH47c3Fzk5eVh4MCB+Mc//gGgejkzYMAA5Ofn48yZMxGVMxcuXECfPn3QoUMHdOjQAQsWLEDHjh1x5513Yv369bj55psBqM/o1KNHD+zbt6/uDYkzeZNJRBQjIQR8cx833DDMgVpeRs0k80REesAhX07ct+h9++23OHr0KC5fvhzR2//888+orKzE8ePHq73uzJkz+Pjjj3HhwoVa30ckT6UddPr0aXzwwQc4evSodpVPVV999RVOnDhR5/up61yba126dAmVlZXalT2XLl2qs0xKJuMnk4ioBsFB2IjDMAdqORk5k8wTEaUah3w5cd/ILJhMIjKtqoOwEYdhDtTyMXommSciSiUO+XLivpFZiFQfFmiEZSZGO6xSz4sHaSaeEKGDsBGHYQ7UcjFDJpmnxJLl5zR/xlEqCMEhX0bcNzILIYTA/sHdueq5zHbnDv5Slepf7s2yzJavZAs3CBtxGGYW5WGWTDJPiSPTz2nmgJKNQ76cuG9kFixnWM5EJTg4yPKLnxGW2TKWTDUNwsw4s5gqZsok85QYsv2cZg4omTjky4n7RmbBcoblTFSqDg6y/OJnhGW2nCVLbYMwM84spoLZMsk8xZ+MP6eZA0oWDvly4r6RWbCcYTkTlWsHB1l+8TPCMlvWkqGuQZgZZxaTzYyZZJ7iS9af08wBJQOHfDlx38gsWM6wnImKGQ6r1PMyW94SLZJBmBlnFpPJrJlknuJH5p/TzAElGod8OXHfyCxYzrCciYpZDqvU8zJb5hIp0kGYGWcWk8XMmWSe4kP2n9PMASUSh3w5cd/ILFjOsJyJipkOq9TzMlvuEiWaQZgZZxaTweyZZJ5iZ4Sf08wBJQqHfDlx38gsWM6wnImK2Q6r1PMyW/YSIdpBmBlnFhONmWSeYmWUn9PMASUCh3w5cd/ILFjOsJyJihkPq9TzMlv+4q0+gzAzziwmEjPJPMXKSD+nmQOKNw75cuK+kVmwnGE5ExWzHlap52W2DMZTfQdhZpxZTBRmknmKldF+TjMHFE8c8uXEfSOzYDnDciYqZj6sUs/LbDmMl1gGYWacWUwEZpJ5ipURf04zBxQvHPLlxH0js2A5w3ImKmY/rFLPy2xZjIdYB2FmnFmMN2aSeYqVUX9OMwcUDxzy5cR9I7NgOcNyJio8rFLfy2x5jFU8BmFmnFmMJ2aSeYqVkX9OMwcUKw75cuK+kVmwnGE5ExUeVqn/ZbZMxiJegzAzzizGCzPJPMXK6D+nmQOKBYd8OXHfyCxYzrCciQoPq5RjmS2X9RXPQZgZZxbjgZlknmJlhp/TzAHVF4d8OXHfyCxYzrCciQoPq5RnmS2b9RHvQZgZZxZjxUwyT7Eyy89p5oDqg0O+nLhvZBYsZ1jORIWHVcq1zJbPaCViEGbGmcVYMJPMU6xyO3UzTV6YA4oWh3w5cd/ILFjOsJyJCg+rlG+ZLaPRSNQgzIwzi/XFTDJP8WCmP6QwBxQNDvly4r6RWbCcYTkTFR5WKecyW04jlchBmBlnFuuDmWSe4oUFDVF1HPLlxH0js2A5w3ImKjysUt5ltqxGItGDMDPOLEaLmWSe4okFDVEoDvly4r6RWbCcYTkTFR5WKfcyW17rkoxBmBlnFqPBTDJP8caChugqDvly4r6RWbCcYTkTFR5WKf8yW2Zrk6xBmBlnFiMVj8NczZpJ5qlmLGiIVBzy5cR9I7NgOcNyJio8rNIYy2y5rUkyyxlmnFmMFEtD5ikRWNAQcciXFfdNLpcvX8abb76JgwcPhl1vvvkmLl++nOqbqUssZ1jORIWHVRpnmS274SS7nGHGmcVIsaBhnhKBBQ2ZHYd8OXHf5DJl1I24sUM+uuZkhV0jCvIxbezoVN9MXWI5w3ImKjys0ljLbPm9VirKGWacWYwUCxrmKRFY0JCZcciXE/dNHlu2bMGMjm3qnKFv6ZiHrVu3pvrm6g7LGZYzUeFhlcZbZstwVakqZ5hxZjFSLGiYp0RgQUNmxSFfTtw3eaxevRqTc7PrnKEn52Zj1apVqb65usNyhuVMVDgoGHOZLcdBqSxnmHFmMVL8vss8JQILGjIjDvly4r7Jg+VMbFjOsJyJCg9QNe4yW5aB1JczzDizGCkWNMxTIrCgIbPhkC8n7ps8WM7EhuUMy5mopGKYVbwNIITgSsLKaJKd6oglVTKfttgIww0HqdRiQcM8JQILGjITDvly4r7Jg+VMbFjOsJyJSirKGSEEAst3cyVhmS3PgD6unpFpuOEglVosaJinRGBBQ2bBIV9O3Dd5sJyJDcsZljNRYTlj7GW2PAexoNHvMmsma8OChnlKBBY0ZAYc8uXEfZMHy5nYsJxhORMVljPGXmbLc1UsaPS7zJzLmrCgYZ4SgQUNGR2HfDlx3+TBciY2LGdYzkSF5Yyxl9nyfC0WNPpdZs9mOCxomKdEYEFDRsYhX07cN3mwnIkNyxmWM1FhOWPsZbY8h8OCRr+L+ayOBQ3zlAgsaMioOOTLifsmD5YzsWE5w3ImKixnjL3MlueasKDR72JGq2NBwzwlAgsaMqLgkB/Y9TvYOnYOuzJ+9//QYN9L8K3fgrR+g2Bt3hK2/PZwTSxDxm9e4JCfAtw3ebCciQ3LGZYzUWE5Y+xltjzXhgWNfhdzWh0LGuYpEVjQkNFoQ/62ZyCEgOL1hR3yvasfgbDbIexpsHftDktOMwghYOvYBRm//wOH/CTjvsmD5UxsklbOdAp4cEN2w4R+jH0Du2F3387YO6CQ5UyCsJwx9jJbnuvCgka/i1mtjgUN85QILGjISK4d8u1FvcM+7MXaug2EYoHvoQ3ay+xFvSGEgPeBRznkJxn3TR4sZ2KTtHJGCIFWHldCP8aD3fIhhMCc/OYsZxKE5Yyxl9nyHAkWNPpdzGt1LGiYp0RgQUNGce2Qb2tXAO+9a7Tl/5ddyPj18+rrOnUNGfwDT+2Fb83jCOz8LYf8JOO+yYPlTGxSUs4sLsjFjLwcbO7ZAZNys1DWuime6dcF+wd3x5aeHTC1VTbWX9cet7dtjpKWWXi8qD32D1avjJnaKht3d26tvd8ZeTlYUpCL5wYWYlJuFoQQGJLVENt6d2Q5kwAsZ4y9zJbnSLGg0e9iZqtjQcM8JQILGjKCa4f8a5fz5lL4HtsMIQQc1w/nwbI6wX2TB8uZ2KSknOkU8MCmKPDZbXDbrBBCoIPfg/2Du+OeznkQQqChw44GaXakWRSkWRSs69EOvxvQFUIIDM5qoL1ft82KLhle7OnfFS3dTggh0MSZhvu6tpGynDl16hS+//57XLhwIa7vN15Yzhh7peqHld5zD7Cg0fNK5S9Zes0uCxp95kmveYkUC5rUkz1DqVbtCoyCjvA+8Ji2/FufRmDHs+pDZ3r2kWrIN3I29L5vRv7aR4vlTGxSVs4IIbC2e1s8P6gb2njTYREC+wZ208qZDn4PXhjUDRuuaw8hBHplBmotZ/YPNsbDmk6cOIF3330X7777Lt577z189NFH+Oyzz/Ddd9/h7Nmzcf1Y9cFyxtgrVb9k6D33QSxo9LuY3epY0OgvT3rOS6RY0KSWETKUSpGeXaJkNIDi9iDw633ay9JvLYewWuFecpcuyxkjZ0Pv+2bkr320WM7EJmXlTLrNqr1ucFYDCCHwuwFdtXLmlrym2usbOezISXeYrpypaR0+fBhHjx7F119/jdOnT+PixYtxvQ21YTlj7KWHAVePua+KBY1+Vyryq/fssqDRV570npdIsaBJHaNkKFUiHfLTb18AIQSsLVshffocOIaPhuJKh+IPIPDUXt2XM0bLht73zchf+2ixnIlNysoZdx3lzMicTOwf3B2/H1CINIuCdj63Vs70bRzA/sHdsXdAIewWxXTlTLj1wQcfoLKyEl988UVCL6tjOWPspedyJpW5NFY1MgAAHHNJREFUvxYLGv2uZGdYhuyyoNFPnmTIS6RY0KSGkTKUCpEO+Q32vYT02+ZD8QfUc00UBbb89vCt26TbhzUZORt63zcjf+2jxXImNrotZzw2K+5o3wJDsxtCCIGy1uqVNOlWCzw2K+a0bY6+jdU7XrCcebh7OwghcGNOJp7t39VU5Uy4lYjL6ljOGHvJVs4kK/fhsKDR70pmjmXJLgsafeRJlrxEigVN8hktQ8kWHPKjWYFdv0PGs/t1f+aMkbOh930z8tc+WixnYqPbcqZv4wCcVgssikC/xhn4/YBC7B/cHbe3bQ6bosCiqM/K5LJatHLm+YHd0M7nhiIElhTk6qqcieedNtYVy2V1LGeMvfT8wyqVua8JCxr9rlizbMTssqBJXJ6MmJdk5kqWvCRyEDdzhpKpPkN+qg8EZjZSt2/82kevajmzs08njGjaCHnedLTzuTG2eWPsufIMzSxnwktaORPpCpYzC9u3xPODumHvlVKm6npuYGHYl1d9fbJur4x37nAr0svqWM4Yexm5nIkl97XRS0GjeNWSm+vqymiSzeymMK+yDNzxGMyNmpdIsaCJndkzlCwsZ+TMBssZee6XwXJmY1EBvHYrbIqCzhletPerF1BkOtLwVJ/OLGdqoOtyJtW3xUzlTLgV7rI6ljPGXmYrZyLNfV30UNDwfhLfPBs5uyxo4j+YGzkvkWJBExtmKDlYzsiZDZYz8twvg+VMB78HihC4vzBfm5sXFbSEEAIDmzRgOVMD3ZUzjxcV4IbshljbvW3KbwvLmffwt7/9jeWMiRbLmfC5j0SqCxreT+KbZ6NnlwVNfAdzo+clUixo6o8ZSg6WM3Jmg+WMPPfL1atXY3zzJhBCoLCBr9rs3CzdCafVgkkts1jOhKG7cka2ZZQ7d/CyuBMnTvBhTSZeZvtlM9LcRyqVBQ3vJ/HNsxmyy4ImfoO5GfKSzFzJkpd4/sxkhpKD5Yyc2WA5I8/9cvXq1bg+S31Cn1HNMqvNzj0bqU/oM6ZZY5YzYbCcMWE5U/VAqVOnTvFAYK64DLNGzn00UlXQ8H4S3zybJbssaOIzmJslL8nMlSx5idfPTWYoOVjOyJkNljPy3C9Xr16N0c0yIYRA/8YZ1Wbn9n43LIpACa+cCYvlTJLKmUjF+6nY9HjJModO/a5k/JIRjt5zHy3eT/SxZPulOVXZZUGTvMHcCHmJFAuaxDBThhJBxnImUkbOht73zchf+2itXr0ak1pmoaHDDpfVgqf6dNbm5k1FBbAoAm19bp45UwOWMwYpZ5J1WRuHTmMv2coZPV7OGZTs+0rV+4l/6S44+0+ErXl7WBpkw96mGzylK5OWI9ewWbA1b3915XaC47oR8M19XHsbW6vOcFw3PKaPk9ZlEOxti1KaZ6NklwVNcgZzo+QlUixo4s9sGYo3vQ/5sTByNvS+b0b+2kcreCDw8o6tIIRAY2caprbKxsSWWfDarbAoAmu7t2U5UwOWMxKWM6m8rI3ljLGXnssZWS7nrCrZA+/V4qMLhBCwZGTBltsJwpYGoVjgLlmelBw5eo1RP35mc7Ugapij/negMfxLdqhZsztha9Ehpo9jbZILxZuR0jwbKbvJzKvRnvo90qdtN1JeIsWCJr7MmKF40vuQHwsjZ0Pv+2bkr320guXM/sHdsbJTa2S7HFCEgEUItPK4sObKk/6wnAmP5YyOyxk9Xtam53ImfewdsOUVqgNpiwKkj5gN/7KnkjKMeqatCr1SoEUB0jr1h2fafVUG5tivFHDdcAtszdvDN3dDRG/vm7sBjl5j4F+6U5pyRo+5j0Wy7jPB+4l7/GIIIWDLK9T23XvLaghFga1FgbbX3ltWw9l3AhzFo+CesORqlievhLPvTfDOWgvnwMlwFI+Cd8aD8C/bBWe/m5F+420h9zln35vgX7g1bDnjvnmZ9rK0jn0hhIB3xoNhy5mabk9g+W54b3sEzv4lcBSNCHld1XLGV74Rzr43IX1UecrKGSNkN9l5Ncqqz/kFRshLpFjQxI9ZMxQveh/yY2HkbOh934z8tY9W1XImuPb074q9AwpDXsZyJjyWMzorZ06dOqXry9r0Ws44+0+EEAKKywtb6y5Q0n0QQsDRa0xSfjF3l6xQP763IWzN28Oa1QrCYoWw2uCd+VDYYbQ+y3HdCHXAnb2u1rfzL/oVPJNXwtaiQP2FdvH2uA4Y8ab33McqGfeb4P3E0WMYhBDwTA59GJP3ltXwTFuFwPLdSB89D0KxQHF5YPGrh7Y5ug9V70u9x6lZ9gSgON3q/3e44LvjSTVPdqd29YvFnwlLRlb1nF4pZ5z9b4a7ZAXSR5XDktGkxitnars93hkPQNidUBwuWHwNtfcbWH61nPEv3g5rdh4Utx/e2x5Jap6NmN1k5tUoK9KsGTEvkWJBEx9mzlA86H3Ij4WRs6H3fTPy1z5a4cqZcIvlTHgsZ3RWzuhdbqduuitnfOUbIWxpULwN4Zv3hFZOKJ4MCFuaVkzU9Jd535zH4Ox7EzxTK5A+YjYc142A+yb19ek3zoGz303wL9uFwPLd8Ey7T72q4Mpf/68tZxzFI7WXpY+YDSEEXEPKwpYzvvKN6pUJ1w2Ha9gsbWgNLN8N/8KtcA0pg6PHMLiGzdReV7Wc8S/dBeegUjgHTq52ZYy9TbeQS+71Xs6YQaIH3uD9xN5G/b7ku73mq6ssgcYQaS7479gM/7JdsDVrB6Eo8N2+XitnnP1uDil73CUr4Bo268r/Xw7vrQ+rb9d7XI3lzLUrfdTcq1mrcn+o7fbYC3qrmb/1YbWQyWkLS4Psq+WMJwP29j0h0pxa+cQ8xy5ZeTXKYtYiw4KGUk3vQz6Fx32TB8uZ2LCcYTkTtWRfPVPXL/HucQvVIbHP+JCXe297BJ6pFfAv3l7rX+Y9k+66eqWAwwWhKOoAOvFOOPtOUK9CmPJLBJbvRlqnfleGxtDBN1jO2NsVw12yAu7xi2Fr1RnClhb2YRze2evUqxJsdlga5UAIBdYmufAv3Qn/4u2wZGRBWG2wNMhWH6KS26laOePoPlQ9R2T8ouqF1bwn4JvzqFbSsJzRh0Ted4L3k7Qug9SMTH8g7B77F2+HEArsbbppL3MOnKw9DClYznhvWY3A8qslo3vCYvjv2AxhtSGt2w1wDSlT327WmhrLGefAyfCU3g33zctga9kRwmKtdn+o6/ZYm+RCSfeF/VysTXK14kdxuOCbt4l5jqNk5LU+y794O9wT70T6yDnalYmpXsxa5FjQUCpxyJcT900eLGdiw3KG5Uy9JLOgqeuXeNfgqepf5UfOqfFtavvLfLCcsbXuAv+SHXCPX6Q9JMo7e536/3uOQmD5biieDNiatateEF0pZ65daV0GXv3lvUo5k9apv1YAVR1m00feDtewmeoVN0NnqK8rHgXFka4WMlfKGUeR+r+uYTNr/doErzpgOaMfibrvBO8nrqEzql3R4l+yA4onAEvDpvAvewrClgZr4xba69O63aCWkFMrai1nAsvVq7Is/kzY8gpD3ke4cqbqmTPpo8rDXklW1+2xNW8PYbXBv+hXCCzfDe/Mh+CZfNfVcsZihbPPePX+1qk/8xxnic5rtMs359ErpbUCkeaCEIr2/ZnljDzikStZDpWO9LBoSg4O+XLivsmD5UxsWM6wnKm3ZBU0df0Snz5q7pWhb2rY19f1l/lgOeMaVKr98i+EgOO6EeoAmNUKlszm8M54UH27G6bXWM7YC3rBU3o3PJPuUq9sqVKyVC1nrNl5UJxu7cBiz7T71I9ZPAqO64arw3GYvwgHy5ngqjr8spyRRyLuO8H7iX/xdlj8jSAUC9IKr4dzwCRYm7ZRC5u+E9RctC1S/3vARKSPvB2K0wPF2xD+xdvrLGfSR6sli7BY4exfUms5Yy/oDWfvcXBcNwIWXyMIocAz5Z5q94dab0//m9X7RvehSB85ByLNBWvTfK2cCR4IbGvdVX3/Zfcyz3GWyLxGu+xti6C4vPDe+jD8y3bB0XOUevtue1Qt76bfD9eQqUgfOedqoTdrLVw3TId39jq4hpTBXbIC/qU71ZdducLMO+MBuG6YHvHh6fzeGbtYcxVphjxl90JYbbC17oK0wiEQtjQ4B05mcWdSHPLlxH2TB8uZ2LCcYTkTk2QUNHX9AuadtQZCKLA1b3/NL/HXqQ+jmPt4rX+Z18qZwVPCljOuwVO04VBYrPDNf6LGcqbqmTO+8o3qgJrfo9owasvtDKFY4Jv/L+rAO3aBOpz2n6gNx+6SFer7mbsBnkl3wb9gS8iVM4rTDUuD7JCzaljOyCPe952q9xPfnPXaw4iEEBBpLjh6jtbOTvLN2wRbXqH2emtmc+2ZxeoqZ/yLtkHYnSEDcU3ljLYsVlgaZCN9xOyrWatyf6jt9vgXb1ef6Sn4uia5V8+fqVLOeGc8AKEosGbnaaUn8xw/icxrNEtxuLSHpAbz4b1lNfwLtyB9zHwIxaLmwpEOS6Mc+Jfs0DJsycjSHirqmbwS1ia5sBf0Vn8mdOwLa5NcDuBJFkuuIs2QvW0RrM3aav/tGjYLjmL1aivngEmwBBrDkpGl/eElresg2Nv3grVxC1gaZF8p7m6BrVVn9XvimPmwZrXSvp8yG3LhkC8n7ps8WM7EhuUMy5mYJbqgieQXMHv7nhBCffpg1+ApsLcrVv/7ylMH1/aX+brKGd/cx9VzaCxW2HI7h/34wXLGmpOvXinQawys2XlXCpeSasOo6/ppanHToQ/c4xaqD89QLPBOfwCeKb+8cts7IH3sAlgbt1APNl6wOeTMmeDVP7X9BZDljL7F874T7n7iX7IDvvKNNT6lvH/JDvgXbo0oG8lYtd0e/5Id8C/YwoE5hRKd10jyUfV76rXLmp2nfc/33rJaLRXHL9LKGe+tD6tXUlptcA0qhXNQqXoF49JdUDwZMV1NwazVX31zFWmGLJnN4Si6sdrLPVMrIIRA+uh56sOJFQXeWWvUh242bArPlHtgbZILR/eh8M5aq97OK4eUp3UewGxIikO+nLhv8mA5ExuWMyxn4iKRBU0kv4D5F21TL1e+8hd9YbHC3q5YOyC0tr/M11XOBJbv1p6Suupf/quu6mfOKFC8DeAoujHsUwf7l+5SixZbGoQQUNz+kDNzXINKr5ynIKB4MrSrFkKerWnxdijehhBpLvjKN4a9XSxn9C9e9536Xolg5MU8x1+q86q4A0jr2Ff7b9/t69Vn0Ju9DpZAY6QVDrnyM+FXEEKBa9hMrZwJfh9UHOlwDpwM39wNEIoC1w3TIYQC35z1zFqK1CdXkWbI1rx9SJniu30DPGX3wjV0BhR3QM3LlbOv0kfPg71NNy1HaV0Hwd6uGIHl6pV6rutvgZLu065sZTbkwyFfTtw3ebCciQ3LGZYzcZOogiaaX+L9y56Cb+7jNZ4boLsrBZY9Bd8dT0b9ukQt5jk14nHfYTnDPCdLKvPqKB6lXvky/FZ4pvxSLd2tNvjmPg57uyIo3obwTLtPOyTaM21VjeVMYLk6uCsuL6w5+cxaikWbq0gz5Bw4GYojHZ7SX8I7+xH1CqvcTlf+qKLAM20V3BPvvJKX+66UM9cjsDy0nHEOnAyLPxNKug/+pZE9pInZ0B8O+XLivsmD5UxsWM6wnImrRBQ0HDqTt5jn1In1vsP7CfOcTKnKq3/RNqR1HgBhtV25sjCA9DHzEViuXvVozW6tXr1oS9Me/lRbOaM9O96VZxFj1lIrmlxFmiH/kh0hmbE2bqmdW5XWZZD6cqsNjiL1zLiayhnf7eqVVsHXMRty4pAvJ+6bPFjOxIblDMuZuIt3QcOhM3mLeU6tZByOaabFPCdWKvPqX7oz7OHsgeXqQ5oiPayVWdOfSHMVbYbUK2ern1vlX7Kj3s/SxWzIh0O+nLhv8mA5ExuWMyxnEiLVB0dy8ZdIWSX6cEwzLeY58ZhXZi0RIsmVLBliNvSFQ76cuG/yYDkTG5YzLGcSJtUHR3Lxl0hZJfJwzEQt/x2b4ewzHvb2veDoNabGQ6qZZ+ORMa/Mmv7VlStZMsRs6AuHfDlx3+TBciY2LGdYziQUDzqVazHP+pGowzETsfzLdqlPBy8U9X8tVijeBvAv2Mw8m4RMeWXW5FFbrmTJELOhLxzy5cR9kwfLmdiwnGE5k3A86FSexTzrSyIOx0zE8k5/AEJcffp515CpEEIgfXQ582wisuSVWZNLTbmSJUPMhr5wyJcT900eLGdiw3KG5UxS8KBTORbzrD+JOhwznss351E4B06Gd+ZDCCzfjfQx8yGEgHv8IubZZGTIK7Mmn3C5kiVDzIa+cMiXE/dNHlu2bMH0glZ1ztC3tG+NrVu3pvrm6g7LGZYzScODI/W/mGd9kulwTO/sdbBkZMHibwT/ol8xzyYkU16ZNXlcmytZMsRs6AuHfDlx3+Ryy7jRGNWhLbo1yw67RnZsi5kTxqX6ZuoSyxmWM0nFgyP1vZhn/ZLhcEz3xDuhON2wNMyBb+6GlN8e5jl1Ys2rf8EWuCcs1pan9JfwL96uvm7JDrgnLK7XodOeaavgmVpR+8detgveGQ/Ce+vDzJrOVM2VHr7nMRvy4ZAvJ+6bfF5//XW89tprYdfrr7+e6punWyxnWM4kndkPjtTzYp71Tc+HY7rHL4aw2mDP6wb/gi0pzzLznHqx5NV7y2oIISBsdgi7A0IIWPyZ8M3bBN/8f1EfNjduYdSZsLcrhq1Fhxpf71+8HdameRBWG4RQYM/vwazpTDBX4TLknrAEju5D1VU0Eu7xixFYvhu++U/A0X1oVIeU++Y8qv6bJTvqeLvHkD5ido2FNLOhLxzy5cR9I7NgOcNyJiXMfHCknhfzrH96PBzTv2ibOsxabXD0HAVn73Fw9h4Hz7RVzLPJ1TevwXImWMB4p98PIQRcw2ZWK2d85RvhGjYTrqEz4Lt9/dVcLtyK9BGz4RpSBt+cxxBYHlrOuEtWIP3G2+Bf9pT2b9wTlqi3+bZHkX7jHPX/z3mUWdMZIUTYDDl6jYHidMPRfSjSOvaFsFiRPmouvLPXqXt5e+RX9HmmVkAIUefDM225ndU83ryM2ZAAh3w5cd/ILFjOsJxJGbMeHKnnxTzLQW+HY7pLVmjDUtXlGjaTeaZ65TVYzqQVDoFr2EykdRkExemG99aHQ8oZ722PQHGkw+JrBEugMUSaE95Za+BfsgOWhk1hyWgCa1YriDQXfHPWa+WMu2QFhM2uXVkRXP6FW+Cd/Qi8sx+BvUMfWBpkw790J7OmQ42yc8J+39Hb6tazT6q/VFQFh3w5cd/ILFjOsJxJqUgKGpYzHGapumvvO7yfMM96Fm1eg+WM4varpYvdCWvjFvDNeyKknHEUj4SwO+FfvB3+pTuhOD1w9BgG903qFTDeWWvgX7wdaZ0HwDP5LtjbFcOS0QSKIx3OvhNq/PjOfjdB2Oyw5RXCv2gbsyaJiooKKIoCj8cDm82Gpk2b4syZM6isrIQQAn//+98xfPhwDBkyBO+++y6Ki4sxdepUvPnmm7BarXjnnXewcuVKFBcX4+2334YQAsuWLUNxcTF+/PHHkI919uxZ9OjRAydPnoTNZsOf//znFH3WFA0O+XLivpFZsJxhOZNydRU0HDo5zFJ4Ve87vJ8wz3oXTV6vfViTf/F2KG4/HMUjQ8qZtE79YWnYVPt31qxWsBf0QvqI2epDUhaGnn9kb1d8pfQJwJqTX+3j+so3wlN2r3obZq0JuQ3Mmv5VVFSgVatWOHToEN5++2306NEDd911V0g5k52dje3btwMA1q1bhw4dOmDbtm1o1apVyPsKljNWqxUjRoyo9rE2bNiAIUOGYP369bBYLJg/f35SPkeKDYd8OXHfyCxYzrCc0YXaChoOnRxmqWbB+w7vJ8yzDCLNa7Cccfa9CZ5Jd6lly5UzjaqWM67rb9H+v/umpRCKBa5BpfBMW6X++4GT4Sm7F5ZAY7gnLIa9XTGsOW3hKf0lhBBIHzU35OO6xy1QXz52wdX3XbKCWZNERUUF8vLycOzYMRw+fBi9e/fGxIkTQ8qZfv36YeLEifj+++8xfPhwjBkzBi+99BJsNhsqKyuxb98+zJ8/XytnXn31VaSlpeEPf/hDyMf613/9V5SXl6O8vByKomDChAkp+qwpGhzy5cR9I7NgOcNyRjdqKmg4dHKYpdoFzzZIdX70tphnfYokr9qzNQVXmgv2/B7wL9gcUs74l+yAvX0vCMUCoVhgb1ekPeW2o+foq8+61K4Y/qU7Qw4Etuf3gOLJCDnw1b9sF+wFvSAUBcJiRVrhEGZNIhUVFVpm7HY7iouL8eGHH4aUM//93/+N3NxcWCwWFBQU4PDhw7h06RJKS0tht9vh9/uxb98+rZz58ccfsWjRIuTl5eH8+fNhPy4f1iQPDvly4r6RWYhUHZBmpEXxE66g4dDJYZbqJsvhmMlcPIhTv4yWV2ZNPmfPnq32svPnz+PSpUspuDWULEJwyJcR943Mgskk3bm2oGE5w3KGiIiIKFYc8uXEfSOzYDJJl6oWNCxnWM4QERERxYpDvpy4b2QWTCbpVrCgYTnDcoaIiIgoVhzy5cR9I7NgMknXgo/nT3VpYZbFH1ZERERkVBzy5cR9I7NgMkn3jHZwpJ4XD7UkIiIio+KQLyfuG5kFk0lERERERIbHIV9O3DcyCyaTiIiIiIgMj0O+nLhvZBZMJhERERERGR6HfDlx38gsmEwiIiIiIjI8Dvly4r6RWTCZRERERERkeBzy5cR9I7NgMomIiIiIyPA45MuJ+0ZmwWQSEREREZHhcciXE/eNzILJJCIiIiIiw+OQLyfuG5kFk0lERERERIbHIV9O3DcyCyaTiIiIiIgMj0O+nLhvZBZMJhERERERGR6HfDlx38gsmEwiIiIiIjI8Dvly4r6RWTCZRERERERkeBzy5cR9I7NgMomIiIiIyPA45MuJ+0ZmwWQSEREREZHhcciXE/eNzILJJCIiIiIiw+OQLyfuG5kFk0lERERERIbHIV9O3DcyCyaTiIiIiIgMj0O+nLhvZBZMJhERERERGR6HfDlx38gsmEwiIiIiIjI8Dvly4r6RWTCZRERERERkeBzy5cR9I7NgMomIiIiIyPA45MuJ+0ZmwWQSEREREZHhcciXE/eNzILJJCIiIiIiw+OQLyfuG5kFk0lERERERIbHIV9O3DcyCyaTiIiIiIgMj0O+nLhvZBZMJhERERERGR6HfDlx38gsmEwiIiIiIjI8Dvly4r6RWTCZRERERERkeBzy5cR9I7NgMomIiIiIyPA45MuJ+0ZmwWQSEREREZHhcciXE/eNzILJJCIiIiIiw+OQLyfuG5kFk0lERERERIbHIV9O3DcyCyaTiIiIiIgMj0O+nLhvZBZMJhERERERGR6HfDlx38gsmEwiIiIiIjI8Dvly4r6RWTCZRERERERkeBzy5cR9I7NgMomIiIiIyPA45MuJ+0ZmwWQSEREREZHhcciXE/eNzILJJCIiIiIiw+OQLyfuG5kFk0lERERERIbHIV9O3DcyCyaTiIiIiIgMr3VRcVyH/NZFxan+lEyB+0ZmwXKGiIiIiIgMb+DYcfBt2BqXAd/32JMYPH5Cqj8lU+C+kVmwnCEiIiIiIsM7fvw4ml9XBN9jm2Me8Jv3KMLnn3+e6k/JFLhvZBYsZ4iIiIiIyBSOHz+OwePGo01xTwghol5tinvi+gk3ccBPMu4bmcH/B6rY8viKNAXOAAAAAElFTkSuQmCC)"
      ],
      "metadata": {
        "id": "a1BxfZRFLtOm"
      }
    },
    {
      "cell_type": "code",
      "source": [
        "# Building up Model Architecture\n",
        "def CNN():\n",
        "    model = Sequential()\n",
        "\n",
        "    #1st CNN layer\n",
        "    model.add(Conv2D(64,(3,3),padding = 'same', name='image_array', input_shape = (48,48,1)))\n",
        "    model.add(BatchNormalization())\n",
        "    model.add(Activation('relu'))\n",
        "    model.add(MaxPooling2D(pool_size = (2,2)))\n",
        "    model.add(Dropout(0.25))\n",
        "\n",
        "    #2nd CNN layer\n",
        "    model.add(Conv2D(128,(5,5),padding = 'same'))\n",
        "    model.add(BatchNormalization())\n",
        "    model.add(Activation('relu'))\n",
        "    model.add(MaxPooling2D(pool_size = (2,2)))\n",
        "    model.add(Dropout (0.25))\n",
        "\n",
        "    #3rd CNN layer\n",
        "    model.add(Conv2D(512,(3,3),padding = 'same'))\n",
        "    model.add(BatchNormalization())\n",
        "    model.add(Activation('relu'))\n",
        "    model.add(MaxPooling2D(pool_size = (2,2)))\n",
        "    model.add(Dropout (0.25))\n",
        "\n",
        "    #4th CNN layer\n",
        "    model.add(Conv2D(512,(3,3), padding='same'))\n",
        "    model.add(BatchNormalization())\n",
        "    model.add(Activation('relu'))\n",
        "    model.add(MaxPooling2D(pool_size=(2, 2)))\n",
        "    model.add(Dropout(0.25))\n",
        "\n",
        "    model.add(Flatten())\n",
        "\n",
        "    #Fully connected 1st layer\n",
        "    model.add(Dense(256))\n",
        "    model.add(BatchNormalization())\n",
        "    model.add(Activation('relu'))\n",
        "    model.add(Dropout(0.25))\n",
        "\n",
        "\n",
        "    # Fully connected layer 2nd layer\n",
        "    model.add(Dense(512))\n",
        "    model.add(BatchNormalization())\n",
        "    model.add(Activation('relu'))\n",
        "    model.add(Dropout(0.25))\n",
        "\n",
        "    model.add(Dense(num_classes, activation='softmax'))\n",
        "\n",
        "    return model"
      ],
      "metadata": {
        "id": "ZHVuuBeG8YA2"
      },
      "execution_count": null,
      "outputs": []
    },
    {
      "cell_type": "code",
      "source": [
        "CNN=CNN()"
      ],
      "metadata": {
        "id": "-WsyiY7w8a8r"
      },
      "execution_count": null,
      "outputs": []
    },
    {
      "cell_type": "code",
      "source": [
        "# Plotting architecture of defined model\n",
        "plot_model(CNN, to_file='CNN.png', show_shapes=True, show_layer_names=True)"
      ],
      "metadata": {
        "id": "Kgq_zNAg8e-G"
      },
      "execution_count": null,
      "outputs": []
    },
    {
      "cell_type": "code",
      "source": [
        "# Compiling the model\n",
        "opt = tf.keras.optimizers.Adam(learning_rate=0.001) #using Adam Optimizer\n",
        "CNN.compile(optimizer=opt,loss='categorical_crossentropy', metrics=['accuracy'])\n",
        "CNN.summary() #gives the information about the architecture and configuration of the neural network."
      ],
      "metadata": {
        "id": "lmT-Lnqq8qch"
      },
      "execution_count": null,
      "outputs": []
    },
    {
      "cell_type": "markdown",
      "source": [
        "#**Training**\n",
        "\n",
        "#**Xception**"
      ],
      "metadata": {
        "id": "n836zYYB8uec"
      }
    },
    {
      "cell_type": "code",
      "source": [
        "# Fitting the Model with Training and Validation Data\n",
        "early_stop = EarlyStopping('val_loss', patience=50, min_delta=0, restore_best_weights=True)\n",
        "reduce_lr = ReduceLROnPlateau('val_loss', factor=0.1,\n",
        "                                  patience=int(50/4), min_delta=0.0001,model='auto')\n",
        "trained_models_path = base_path + '_Xception'\n",
        "model_names = trained_models_path + '.{epoch:02d}-{val_accuracy:.2f}.hdf5'\n",
        "model_checkpoint = ModelCheckpoint(model_names, 'val_loss', verbose=1,\n",
        "                                                    save_best_only=True)\n",
        "callbacks = [model_checkpoint, early_stop, reduce_lr]"
      ],
      "metadata": {
        "id": "dNKV4-rc82S9"
      },
      "execution_count": null,
      "outputs": []
    },
    {
      "cell_type": "code",
      "source": [
        "# Fitting the xception model\n",
        "xception_history =xception.fit(data_generator.flow(xtrain, ytrain, batch_size),\n",
        "          steps_per_epoch=len(xtrain) / batch_size, \n",
        "          epochs=num_epochs, \n",
        "          verbose=1, \n",
        "          callbacks=callbacks,\n",
        "          validation_data=(xtest,ytest))"
      ],
      "metadata": {
        "id": "qYHEGFeO88W0"
      },
      "execution_count": null,
      "outputs": []
    },
    {
      "cell_type": "markdown",
      "source": [
        "It took around 45 to 50 minutes to run all 70 epochs. The training gave the accuracy of 72% approx and val_accuracy of 64%.\n",
        "\n",
        "It gives good prediction on train as well as test data.\n",
        "\n",
        "Let's see the performance of Trained Deep CNN model"
      ],
      "metadata": {
        "id": "g11ufkvO9RN8"
      }
    },
    {
      "cell_type": "markdown",
      "source": [
        "#**Trained Deep Convolutional Neural Network(CNN):**"
      ],
      "metadata": {
        "id": "e4Olza0x9aPa"
      }
    },
    {
      "cell_type": "code",
      "source": [
        "# Fitting the Model with Training and Validation Data\n",
        "early_stop = EarlyStopping('val_loss', patience=50)\n",
        "reduce_lr = ReduceLROnPlateau('val_loss', factor=0.1,\n",
        "                                  patience=25, min_lr=0.00001,model='auto')\n",
        "trained_models_path = base_path + 'CNN'\n",
        "model_names = trained_models_path + '.{epoch:02d}-{val_accuracy:.2f}.hdf5'\n",
        "model_checkpoint = ModelCheckpoint(model_names, 'val_loss', verbose=1,\n",
        "                                                    save_best_only=True, mode='max')\n",
        "callbacks = [model_checkpoint, early_stop, reduce_lr]"
      ],
      "metadata": {
        "id": "vgTEGQtr9TKI"
      },
      "execution_count": null,
      "outputs": []
    },
    {
      "cell_type": "code",
      "source": [
        "# Fitting the CNN model\n",
        "CNN_history =CNN.fit(data_generator.flow(xtrain, ytrain, batch_size),\n",
        "          steps_per_epoch=len(xtrain) / batch_size,\n",
        "          epochs=num_epochs, \n",
        "          verbose=1, \n",
        "          callbacks=callbacks,\n",
        "          validation_data=(xtest,ytest))"
      ],
      "metadata": {
        "id": "UY6VWPvj9jOR"
      },
      "execution_count": null,
      "outputs": []
    },
    {
      "cell_type": "markdown",
      "source": [
        "#**Plotting Accuracy & Loss**"
      ],
      "metadata": {
        "id": "KZ4cZ4g09m-6"
      }
    },
    {
      "cell_type": "code",
      "source": [
        "# Plotting accuracy and loss curve for each model\n",
        "fig,axes=plt.subplots(2,2,figsize=(20, 20))\n",
        "for (m,history), ax in zip({'CNN':CNN_history,'Xception':xception_history}.items(),axes):\n",
        "    # Loss Curves    \n",
        "    ax[0].plot(history.history['loss'],'r',linewidth=2.0)\n",
        "    ax[0].plot(history.history['val_loss'],'b',linewidth=2.0)\n",
        "    ax[0].legend(['Training loss', 'Validation Loss'],fontsize=18)\n",
        "    ax[0].set_xlabel('Epochs ',fontsize=16)\n",
        "    ax[0].set_ylabel('Loss',fontsize=16)\n",
        "    ax[0].set_title('Loss Curves '+m,fontsize=16)\n",
        " \n",
        "    # Accuracy Curves\n",
        "    ax[1].plot(history.history['accuracy'],'r',linewidth=2.0)\n",
        "    ax[1].plot(history.history['val_accuracy'],'b',linewidth=2.0)\n",
        "    ax[1].legend(['Training Accuracy', 'Validation Accuracy'],fontsize=18)\n",
        "    ax[1].set_xlabel('Epochs ',fontsize=16)\n",
        "    ax[1].set_ylabel('Accuracy',fontsize=16)\n",
        "    ax[1].set_title('Accuracy Curves '+m,fontsize=16)"
      ],
      "metadata": {
        "id": "pidZXSxZ9siA"
      },
      "execution_count": null,
      "outputs": []
    },
    {
      "cell_type": "code",
      "source": [
        "# saving the plot\n",
        "plt.savefig('plots.png')"
      ],
      "metadata": {
        "id": "DCRDmsr994p0"
      },
      "execution_count": null,
      "outputs": []
    },
    {
      "cell_type": "markdown",
      "source": [
        "From above loss and accuracy plot it is seen that the accuracy & loss curve of Trained Deep CNN model is gradually increasing also the validation loss curve is below the training loss curve on the other hand the Xception shows the slightly lower accuracy compare to the trained CNN model.\n",
        "\n",
        "#**Classificastion Reports**"
      ],
      "metadata": {
        "id": "XmVhdWof98F-"
      }
    },
    {
      "cell_type": "code",
      "source": [
        "# Printing the classification report of all models\n",
        "for model in [CNN,xception]:\n",
        "    ypred=model.predict(xtest)\n",
        "    ypred_=np.argmax(ypred, axis=1)\n",
        "    ytest_=np.argmax(ytest, axis=1)\n",
        "    print(classification_report(ytest_, ypred_,digits=3))"
      ],
      "metadata": {
        "id": "CSNGiVtE-AHF"
      },
      "execution_count": null,
      "outputs": []
    },
    {
      "cell_type": "markdown",
      "source": [
        "From above classification report it is seen that the **Recall**, **Precision** and **f1** score of **Custom trained Deep CNN modedl** is high compare to Xception model.\n",
        "\n",
        "#**Confusion Matrix**"
      ],
      "metadata": {
        "id": "iPHjqllY-GFJ"
      }
    },
    {
      "cell_type": "code",
      "source": [
        "import itertools\n",
        "from sklearn.metrics import confusion_matrix\n",
        "from matplotlib.pyplot import figure\n",
        "\n",
        "# Printing the confusion matrix for each model\n",
        "for model,i in zip([CNN,xception],[1,2,3]):\n",
        "    fig = figure(figsize=(10, 10))\n",
        "    \n",
        "    ypred=model.predict(xtest)\n",
        "    rounded_predections=np.argmax(ypred, axis=1)\n",
        "    rounded_labels=np.argmax(ytest, axis=1)\n",
        "    cm = confusion_matrix(rounded_labels, rounded_predections)\n",
        "    labels = ['Angry', 'Disgust', 'Fear', 'Happy', 'Sad', 'Surprise', 'Neutral']\n",
        "    title='Confusion matrix '+model.name\n",
        "    \n",
        "\n",
        "    plt.imshow(cm, interpolation='nearest', cmap=plt.cm.Blues)\n",
        "    plt.title(title)\n",
        "    plt.colorbar()\n",
        "    tick_marks = np.arange(len(labels))\n",
        "    plt.xticks(tick_marks, labels, rotation=45)\n",
        "    plt.yticks(tick_marks, labels)\n",
        "    fmt = 'd'\n",
        "    thresh = cm.max() / 2.\n",
        "    for i, j in itertools.product(range(cm.shape[0]), range(cm.shape[1])):\n",
        "        plt.text(j, i, format(cm[i, j], fmt),\n",
        "                horizontalalignment=\"center\",\n",
        "                color=\"white\" if cm[i, j] > thresh else \"black\")\n",
        "\n",
        "    plt.ylabel('True label')\n",
        "    plt.xlabel('Predicted label')\n",
        "    plt.tight_layout()\n",
        "    plt.savefig('confusion_matrix_'+model.name+'.png')\n",
        "    plt.show()"
      ],
      "metadata": {
        "id": "3aFs0USp-arA"
      },
      "execution_count": null,
      "outputs": []
    },
    {
      "cell_type": "markdown",
      "source": [
        "From the confusion metrix above we observe the emotions that are correctly predicted w.r.t actual emotions.\n",
        "\n",
        "In above confusion metrices the **Deep CNN model** has predicted most of the emotions correctly comapare to **Xception model.**\n",
        "\n",
        "Now we are going to use the **Trained CNN Model** for live video face emotion recognition.\n",
        "\n",
        "#**Real Time Video Face Detection Using Local Webcam**"
      ],
      "metadata": {
        "id": "vpAok36U-g5E"
      }
    },
    {
      "cell_type": "code",
      "source": [
        "# Save best Model\n",
        "CNN.save('Final_model.h5')"
      ],
      "metadata": {
        "id": "8pj2wyEE-wLT"
      },
      "execution_count": null,
      "outputs": []
    },
    {
      "cell_type": "code",
      "source": [
        "# Saving model in json format along with weights\n",
        "fer_json = xception.to_json()  \n",
        "with open(\"fer.json\", \"w\") as json_file:  \n",
        "    json_file.write(fer_json)  \n",
        "xception.save_weights(\"fer.h5\")"
      ],
      "metadata": {
        "id": "UnhCMcWK-2ox"
      },
      "execution_count": null,
      "outputs": []
    },
    {
      "cell_type": "code",
      "source": [
        "# import dependencies\n",
        "from IPython.display import display, Javascript, Image,clear_output\n",
        "from google.colab.output import eval_js\n",
        "from base64 import b64decode, b64encode\n",
        "import cv2\n",
        "import numpy as np\n",
        "import PIL\n",
        "import io\n",
        "import html\n",
        "import time"
      ],
      "metadata": {
        "id": "7KOE2Xlq-7jO"
      },
      "execution_count": null,
      "outputs": []
    },
    {
      "cell_type": "code",
      "source": [
        "# function to convert the JavaScript object into an OpenCV image\n",
        "def js_to_image(js_reply):\n",
        "  \"\"\"\n",
        "  Params:\n",
        "          js_reply: JavaScript object containing image from webcam\n",
        "  Returns:\n",
        "          img: OpenCV BGR image\n",
        "  \"\"\"\n",
        "  # decode base64 image\n",
        "  image_bytes = b64decode(js_reply.split(',')[1])\n",
        "  # convert bytes to numpy array\n",
        "  jpg_as_np = np.frombuffer(image_bytes, dtype=np.uint8)\n",
        "  # decode numpy array into OpenCV BGR image\n",
        "  img = cv2.imdecode(jpg_as_np, flags=1)\n",
        "\n",
        "  return img\n",
        "\n",
        "# function to convert OpenCV Rectangle bounding box image into base64 byte string to be overlayed on video stream\n",
        "def bbox_to_bytes(bbox_array):\n",
        "  \"\"\"\n",
        "  Params:\n",
        "          bbox_array: Numpy array (pixels) containing rectangle to overlay on video stream.\n",
        "  Returns:\n",
        "        bytes: Base64 image byte string\n",
        "  \"\"\"\n",
        "  # convert array into PIL image\n",
        "  bbox_PIL = PIL.Image.fromarray(bbox_array, 'RGBA')\n",
        "  iobuf = io.BytesIO()\n",
        "  # format bbox into png for return\n",
        "  bbox_PIL.save(iobuf, format='png')\n",
        "  # format return string\n",
        "  bbox_bytes = 'data:image/png;base64,{}'.format((str(b64encode(iobuf.getvalue()), 'utf-8')))\n",
        "\n",
        "  return bbox_bytes"
      ],
      "metadata": {
        "id": "0CmhEUkA_ADs"
      },
      "execution_count": null,
      "outputs": []
    },
    {
      "cell_type": "code",
      "source": [
        "# initialize the Haar Cascade face detection model\n",
        "face_cascade = cv2.CascadeClassifier(cv2.samples.findFile(cv2.data.haarcascades + 'haarcascade_frontalface_default.xml'))"
      ],
      "metadata": {
        "id": "iOzg0Uh8_DWh"
      },
      "execution_count": null,
      "outputs": []
    },
    {
      "cell_type": "code",
      "source": [
        "# JavaScript to properly create our live video stream using our webcam as input\n",
        "def video_stream():\n",
        "  js = Javascript('''\n",
        "    var video;\n",
        "    var div = null;\n",
        "    var stream;\n",
        "    var captureCanvas;\n",
        "    var imgElement;\n",
        "    var labelElement;\n",
        "    \n",
        "    var pendingResolve = null;\n",
        "    var shutdown = false;\n",
        "    \n",
        "    function removeDom() {\n",
        "       stream.getVideoTracks()[0].stop();\n",
        "       video.remove();\n",
        "       div.remove();\n",
        "       video = null;\n",
        "       div = null;\n",
        "       stream = null;\n",
        "       imgElement = null;\n",
        "       captureCanvas = null;\n",
        "       labelElement = null;\n",
        "    }\n",
        "    \n",
        "    function onAnimationFrame() {\n",
        "      if (!shutdown) {\n",
        "        window.requestAnimationFrame(onAnimationFrame);\n",
        "      }\n",
        "      if (pendingResolve) {\n",
        "        var result = \"\";\n",
        "        if (!shutdown) {\n",
        "          captureCanvas.getContext('2d').drawImage(video, 0, 0, 640, 480);\n",
        "          result = captureCanvas.toDataURL('image/jpeg', 0.8)\n",
        "        }\n",
        "        var lp = pendingResolve;\n",
        "        pendingResolve = null;\n",
        "        lp(result);\n",
        "      }\n",
        "    }\n",
        "    \n",
        "    async function createDom() {\n",
        "      if (div !== null) {\n",
        "        return stream;\n",
        "      }\n",
        "\n",
        "      div = document.createElement('div');\n",
        "      div.style.border = '2px solid black';\n",
        "      div.style.padding = '3px';\n",
        "      div.style.width = '100%';\n",
        "      div.style.maxWidth = '600px';\n",
        "      document.body.appendChild(div);\n",
        "      \n",
        "      const modelOut = document.createElement('div');\n",
        "      modelOut.innerHTML = \"<span>Status:</span>\";\n",
        "      labelElement = document.createElement('span');\n",
        "      labelElement.innerText = 'No data';\n",
        "      labelElement.style.fontWeight = 'bold';\n",
        "      modelOut.appendChild(labelElement);\n",
        "      div.appendChild(modelOut);\n",
        "           \n",
        "      video = document.createElement('video');\n",
        "      video.style.display = 'block';\n",
        "      video.width = div.clientWidth - 6;\n",
        "      video.setAttribute('playsinline', '');\n",
        "      video.onclick = () => { shutdown = true; };\n",
        "      stream = await navigator.mediaDevices.getUserMedia(\n",
        "          {video: { facingMode: \"environment\"}});\n",
        "      div.appendChild(video);\n",
        "\n",
        "      imgElement = document.createElement('img');\n",
        "      imgElement.style.position = 'absolute';\n",
        "      imgElement.style.zIndex = 1;\n",
        "      imgElement.onclick = () => { shutdown = true; };\n",
        "      div.appendChild(imgElement);\n",
        "      \n",
        "      const instruction = document.createElement('div');\n",
        "      instruction.innerHTML = \n",
        "          '<span style=\"color: red; font-weight: bold;\">' +\n",
        "          'When finished, click here or on the video to stop this demo</span>';\n",
        "      div.appendChild(instruction);\n",
        "      instruction.onclick = () => { shutdown = true; };\n",
        "      \n",
        "      video.srcObject = stream;\n",
        "      await video.play();\n",
        "\n",
        "      captureCanvas = document.createElement('canvas');\n",
        "      captureCanvas.width = 640; //video.videoWidth;\n",
        "      captureCanvas.height = 480; //video.videoHeight;\n",
        "      window.requestAnimationFrame(onAnimationFrame);\n",
        "      \n",
        "      return stream;\n",
        "    }\n",
        "    async function stream_frame(label, imgData) {\n",
        "      if (shutdown) {\n",
        "        removeDom();\n",
        "        shutdown = false;\n",
        "        return '';\n",
        "      }\n",
        "\n",
        "      var preCreate = Date.now();\n",
        "      stream = await createDom();\n",
        "      \n",
        "      var preShow = Date.now();\n",
        "      if (label != \"\") {\n",
        "        labelElement.innerHTML = label;\n",
        "      }\n",
        "            \n",
        "      if (imgData != \"\") {\n",
        "        var videoRect = video.getClientRects()[0];\n",
        "        imgElement.style.top = videoRect.top + \"px\";\n",
        "        imgElement.style.left = videoRect.left + \"px\";\n",
        "        imgElement.style.width = videoRect.width + \"px\";\n",
        "        imgElement.style.height = videoRect.height + \"px\";\n",
        "        imgElement.src = imgData;\n",
        "      }\n",
        "      \n",
        "      var preCapture = Date.now();\n",
        "      var result = await new Promise(function(resolve, reject) {\n",
        "        pendingResolve = resolve;\n",
        "      });\n",
        "      shutdown = false;\n",
        "      \n",
        "      return {'create': preShow - preCreate, \n",
        "              'show': preCapture - preShow, \n",
        "              'capture': Date.now() - preCapture,\n",
        "              'img': result};\n",
        "    }\n",
        "    ''')\n",
        "\n",
        "  display(js)\n",
        "  \n",
        "def video_frame(label, bbox):\n",
        "  data = eval_js('stream_frame(\"{}\", \"{}\")'.format(label, bbox))\n",
        "  return data"
      ],
      "metadata": {
        "id": "TH7eAvyf_ONm"
      },
      "execution_count": null,
      "outputs": []
    },
    {
      "cell_type": "code",
      "source": [
        "# Defining function to detect face\n",
        "def face_detect():\n",
        "  import cv2\n",
        "  from PIL import Image\n",
        "  import numpy as np\n",
        "  import os\n",
        "  from keras.models import load_model\n",
        "  from time import sleep\n",
        "  from keras.preprocessing.image import img_to_array\n",
        "  from keras.preprocessing import image\n",
        "# start streaming video from webcam\n",
        "  video_stream()\n",
        "# label for video\n",
        "  label_html = 'Capturing...'\n",
        "# initialze bounding box to empty\n",
        "  bbox = ''\n",
        "  count = 0\n",
        "  face_classifier = cv2.CascadeClassifier(cv2.data.haarcascades + '/content/gdrive/MyDrive/Face Emotion Recognition - Akram Khan/haarcascade_frontalface_default.xml') # Face Detection\n",
        "  classifier =load_model('/content/gdrive/MyDrive/Face Emotion Recognition - Akram Khan/Final_model.h5')  #Load model\n",
        "  emotion_labels = ['Angry','Disgust','Fear','Happy','Neutral', 'Sad', 'Surprise'] \n",
        "\n",
        "  while True:\n",
        "    js_reply = video_frame(label_html, bbox)\n",
        "    if not js_reply:\n",
        "      break\n",
        "\n",
        "    # convert JS response to OpenCV Image\n",
        "    img = js_to_image(js_reply[\"img\"])\n",
        "\n",
        "    # create transparent overlay for bounding box\n",
        "    bbox_array = np.zeros([480,640,4], dtype=np.uint8)\n",
        "\n",
        "    # grayscale image for face detection\n",
        "    gray = cv2.cvtColor(img, cv2.COLOR_BGR2GRAY)\n",
        "\n",
        "    # get face region coordinates\n",
        "    faces = face_cascade.detectMultiScale(gray)\n",
        "    # get face bounding box for overlay\n",
        "    for (x,y,w,h) in faces:\n",
        "      bbox_array = cv2.rectangle(bbox_array,(x,y),(x+w,y+h),(0,255,0),2)\n",
        "      roi_gray = gray[y:y+h,x:x+w]\n",
        "      roi_gray = cv2.resize(roi_gray,(48,48),interpolation=cv2.INTER_AREA)  ##Face Cropping for prediction\n",
        "      if np.sum([roi_gray])!=0:\n",
        "        roi = roi_gray.astype('float')/255.0\n",
        "        roi = img_to_array(roi)\n",
        "        roi = np.expand_dims(roi,axis=0) ## reshaping the cropped face image for prediction\n",
        "        prediction = classifier.predict(roi)[0]   #Prediction\n",
        "        label=emotion_labels[prediction.argmax()]\n",
        "        label_position = (x,y)\n",
        "        cv2.putText(bbox_array,label,label_position,cv2.FONT_HERSHEY_SIMPLEX,1,(0,255,0),2)   # Text Adding\n",
        "      else:\n",
        "        cv2.putText(bbox_array,'No Faces',(30,80),cv2.FONT_HERSHEY_SIMPLEX,1,(0,255,0),2)\n",
        "\n",
        "    \n",
        "\n",
        "\n",
        "\n",
        "    bbox_array[:,:,3] = (bbox_array.max(axis = 2) > 0 ).astype(int) * 255\n",
        "    # convert overlay of bbox into bytes\n",
        "    bbox_bytes = bbox_to_bytes(bbox_array)\n",
        "    # update bbox so next frame gets new overlay\n",
        "    bbox = bbox_bytes"
      ],
      "metadata": {
        "id": "rHbUMVWn_V5_"
      },
      "execution_count": null,
      "outputs": []
    },
    {
      "cell_type": "code",
      "source": [
        "# Finally detecting the face with live webcam\n",
        "face_detect()"
      ],
      "metadata": {
        "id": "Vsubv6je_Y1n"
      },
      "execution_count": null,
      "outputs": []
    }
  ]
}